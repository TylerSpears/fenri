{
 "cells": [
  {
   "cell_type": "code",
   "execution_count": 1,
   "metadata": {},
   "outputs": [],
   "source": [
    "# imports\n",
    "import collections\n",
    "import copy\n",
    "import datetime\n",
    "import functools\n",
    "import inspect\n",
    "import io\n",
    "import itertools\n",
    "import math\n",
    "import os\n",
    "import pathlib\n",
    "import pdb\n",
    "import random\n",
    "import shutil\n",
    "import subprocess\n",
    "import sys\n",
    "import tempfile\n",
    "import time\n",
    "import typing\n",
    "import warnings\n",
    "import zipfile\n",
    "from functools import partial\n",
    "from pathlib import Path\n",
    "from pprint import pprint as ppr\n",
    "\n",
    "from box import Box\n",
    "\n",
    "# visualization libraries\n",
    "%matplotlib widget\n",
    "import matplotlib as mpl\n",
    "import matplotlib.pyplot as plt\n",
    "import seaborn as sns\n",
    "\n",
    "# Computation & ML libraries.\n",
    "import numpy as np\n",
    "import networkx\n",
    "import einops\n",
    "import pandas as pd\n",
    "\n",
    "import mne\n",
    "\n",
    "plt.rcParams.update({\"figure.autolayout\": True})\n",
    "plt.rcParams.update({\"figure.facecolor\": [1.0, 1.0, 1.0, 1.0]})\n",
    "plt.rcParams.update({\"image.cmap\": \"gray\"})\n",
    "\n",
    "# Set print options for ndarrays/tensors.\n",
    "np.set_printoptions(suppress=True, threshold=100, linewidth=88)"
   ]
  },
  {
   "cell_type": "code",
   "execution_count": 2,
   "metadata": {},
   "outputs": [
    {
     "name": "stdout",
     "output_type": "stream",
     "text": [
      "Reading /data/srv/data/pitn/uva/liu_insula_implant_study/pilot/eeg_scalp_thermal_stim/set_file/S001/Resting_State_Medoc_S001.fdt\n",
      "Reading /data/srv/data/pitn/uva/liu_insula_implant_study/pilot/eeg_scalp_thermal_stim/set_file/S002/Resting_State_Medoc_S002.fdt\n",
      "Reading /data/srv/data/pitn/uva/liu_insula_implant_study/pilot/eeg_scalp_thermal_stim/set_file/S003/Resting_State_Medoc_S003.fdt\n"
     ]
    },
    {
     "name": "stderr",
     "output_type": "stream",
     "text": [
      "/tmp/ipykernel_4054604/1085382006.py:32: RuntimeWarning: The data contains 'boundary' events, indicating data discontinuities. Be cautious of filtering and epoching around these events.\n",
      "  data = mne.io.read_raw_eeglab(\n",
      "/tmp/ipykernel_4054604/1085382006.py:36: RuntimeWarning: Fiducial point nasion not found, assuming identity unknown to head transformation\n",
      "  data.set_montage(\n",
      "/tmp/ipykernel_4054604/1085382006.py:32: RuntimeWarning: The data contains 'boundary' events, indicating data discontinuities. Be cautious of filtering and epoching around these events.\n",
      "  data = mne.io.read_raw_eeglab(\n",
      "/tmp/ipykernel_4054604/1085382006.py:36: RuntimeWarning: Fiducial point nasion not found, assuming identity unknown to head transformation\n",
      "  data.set_montage(\n",
      "/tmp/ipykernel_4054604/1085382006.py:32: RuntimeWarning: The data contains 'boundary' events, indicating data discontinuities. Be cautious of filtering and epoching around these events.\n",
      "  data = mne.io.read_raw_eeglab(\n",
      "/tmp/ipykernel_4054604/1085382006.py:36: RuntimeWarning: Fiducial point nasion not found, assuming identity unknown to head transformation\n",
      "  data.set_montage(\n"
     ]
    }
   ],
   "source": [
    "# Data Import\n",
    "SUBJ_DATA_DIR_ROOT = Path(\n",
    "    \"/data/srv/data/pitn/uva/liu_insula_implant_study/pilot/eeg_scalp_thermal_stim/set_file\"\n",
    ")\n",
    "assert SUBJ_DATA_DIR_ROOT.exists()\n",
    "\n",
    "MONTAGE_F = SUBJ_DATA_DIR_ROOT.parent / \"eeg_cap_info\" / \"CACS-64_REF.bvef\"\n",
    "MONTAGE = mne.channels.read_custom_montage(MONTAGE_F)\n",
    "\n",
    "SUBJ_IDS = (\"S001\", \"S002\", \"S003\")\n",
    "# SUBJ_IDS = (\"S002\",)\n",
    "\n",
    "# Locate files for each subject.\n",
    "subj_data = Box(default_box=True)\n",
    "for s in SUBJ_IDS:\n",
    "    s_f = dict()\n",
    "\n",
    "    s_dir = SUBJ_DATA_DIR_ROOT / s\n",
    "    s_f[\"fdt\"] = next(s_dir.glob(\"Resting_State_Medoc*.fdt\"))\n",
    "    s_f[\"set\"] = next(s_dir.glob(\"Resting_State_Medoc*.set\"))\n",
    "    subj_data[s].files = s_f\n",
    "\n",
    "# Based on average adult head sizes according to actiCAP\n",
    "CAP_CIRCUMFERENCE_CM = 57\n",
    "head_radius_cm = CAP_CIRCUMFERENCE_CM / (2 * np.pi)\n",
    "# This is roughly 9 cm, which is \"close enough\" to 1 decimeter. So, the montage unit\n",
    "# should just be set to 'dm'.\n",
    "\n",
    "# Create MNE Raw object readers from files\n",
    "for s in subj_data.keys():\n",
    "    # Decimeter montage unit size?\n",
    "    data = mne.io.read_raw_eeglab(\n",
    "        subj_data[s].files.set,\n",
    "        montage_units=\"dm\",\n",
    "    )\n",
    "    data.set_montage(\n",
    "        MONTAGE,\n",
    "        match_case=False,\n",
    "        match_alias=True,\n",
    "        verbose=True,\n",
    "    )\n",
    "    subj_data[s].raw = data"
   ]
  },
  {
   "cell_type": "code",
   "execution_count": 3,
   "metadata": {},
   "outputs": [
    {
     "name": "stdout",
     "output_type": "stream",
     "text": [
      "Used Annotations descriptions: ['pushbutton']\n",
      "Used Annotations descriptions: ['pushbutton']\n",
      "Used Annotations descriptions: ['pushbutton']\n"
     ]
    }
   ],
   "source": [
    "# Attach additional metadata/cleanup and parse events\n",
    "THERMAL_RAMPUP_TIME_S = 10.0\n",
    "\n",
    "for s, data in subj_data.items():\n",
    "    data.raw.annotations.rename({\"R128\": \"pushbutton\"})\n",
    "    events, _ = mne.events_from_annotations(data.raw, regexp=\"pushbutton\")\n",
    "    therm_rampup_end_times = data.raw.times[events[:, 0]]\n",
    "    min_therm_ramp_start_times = therm_rampup_end_times - THERMAL_RAMPUP_TIME_S\n",
    "    data.raw.annotations.append(\n",
    "        onset=min_therm_ramp_start_times,\n",
    "        duration=THERMAL_RAMPUP_TIME_S + 2,\n",
    "        description=[\n",
    "            f\"possible_therm_ramp\" for i in range(len(min_therm_ramp_start_times))\n",
    "        ],\n",
    "    )"
   ]
  },
  {
   "cell_type": "markdown",
   "metadata": {},
   "source": [
    "## Preprocessing"
   ]
  },
  {
   "cell_type": "code",
   "execution_count": 4,
   "metadata": {},
   "outputs": [],
   "source": [
    "for s in subj_data.keys():\n",
    "    subj_data[s].preproc = subj_data[s].raw.copy()"
   ]
  },
  {
   "cell_type": "code",
   "execution_count": 5,
   "metadata": {},
   "outputs": [],
   "source": [
    "# Remove bad channels from the start.\n",
    "BAD_CHANNELS = {\"S002\": (\"FT10\", \"AF7\", \"FT8\", \"FC2\")}\n",
    "\n",
    "for s in BAD_CHANNELS.keys():\n",
    "    if s not in subj_data.keys():\n",
    "        continue\n",
    "    subj_data[s].preproc.info[\"bads\"] = list(BAD_CHANNELS[s])\n",
    "\n",
    "BAD_SPANS = {\n",
    "    \"S001\": [\n",
    "        (0.0, 14.877),\n",
    "        (205.535, 274.775),\n",
    "        (448.082, 576.625),\n",
    "    ],\n",
    "    \"S002\": [\n",
    "        (166.914, 188.814),\n",
    "        (194.137, 197.821),\n",
    "        (316.695, 318.357),\n",
    "        (326.071, 327.739),\n",
    "        (338.782, 342.160),\n",
    "        (362.216, 365.255),\n",
    "    ],\n",
    "    \"S003\": [(67.062, 94.477), (180.352, 193.434), (395.036, 397.768)],\n",
    "}\n",
    "\n",
    "\n",
    "for s in BAD_SPANS.keys():\n",
    "    if s not in subj_data.keys():\n",
    "        continue\n",
    "    onsets = list()\n",
    "    durs = list()\n",
    "    for span in BAD_SPANS[s]:\n",
    "        onsets.append(span[0])\n",
    "        durs.append(span[1] - span[0])\n",
    "    subj_data[s].preproc.annotations.append(\n",
    "        onset=onsets, duration=durs, description=\"bad_dropout\"\n",
    "    )"
   ]
  },
  {
   "cell_type": "code",
   "execution_count": 7,
   "metadata": {},
   "outputs": [
    {
     "name": "stdout",
     "output_type": "stream",
     "text": [
      "Ignoring annotations with descriptions starting with: bad, edge\n",
      "\n",
      "Detected 13 break periods of >= 6 s duration:\n",
      "    5.0 – 41.5 s [36.5 s]\n",
      "    59.0 – 72.5 s [13.5 s]\n",
      "    90.0 – 102.8 s [12.8 s]\n",
      "    120.3 – 134.3 s [14.0 s]\n",
      "    151.8 – 164.7 s [12.9 s]\n",
      "    182.2 – 194.5 s [12.2 s]\n",
      "    212.0 – 287.2 s [75.2 s]\n",
      "    304.7 – 317.1 s [12.4 s]\n",
      "    334.6 – 345.8 s [11.2 s]\n",
      "    363.3 – 374.2 s [10.9 s]\n",
      "    391.7 – 403.9 s [12.2 s]\n",
      "    421.4 – 434.1 s [12.7 s]\n",
      "    451.6 – 576.8 s [125.2 s]\n",
      "In total, 62.7% of the data (361.8 s) have been marked as a break.\n",
      "\n",
      "Ignoring annotations with descriptions starting with: bad, edge\n",
      "\n",
      "Detected 13 break periods of >= 6 s duration:\n",
      "    5.0 – 19.4 s [14.4 s]\n",
      "    36.9 – 49.4 s [12.5 s]\n",
      "    66.9 – 76.4 s [9.5 s]\n",
      "    93.9 – 102.8 s [8.9 s]\n",
      "    120.3 – 127.8 s [7.5 s]\n",
      "    145.3 – 152.0 s [6.7 s]\n",
      "    169.5 – 217.3 s [47.8 s]\n",
      "    234.8 – 243.7 s [8.9 s]\n",
      "    261.2 – 273.5 s [12.3 s]\n",
      "    291.0 – 299.7 s [8.7 s]\n",
      "    317.2 – 324.6 s [7.4 s]\n",
      "    342.1 – 350.6 s [8.5 s]\n",
      "    368.1 – 372.0 s [4.0 s]\n",
      "In total, 42.2% of the data (157.0 s) have been marked as a break.\n",
      "\n",
      "Ignoring annotations with descriptions starting with: bad, edge\n",
      "\n",
      "Detected 12 break periods of >= 6 s duration:\n",
      "    5.0 – 12.5 s [7.5 s]\n",
      "    30.0 – 43.5 s [13.6 s]\n",
      "    61.0 – 74.8 s [13.7 s]\n",
      "    92.3 – 105.1 s [12.9 s]\n",
      "    122.6 – 136.1 s [13.4 s]\n",
      "    153.6 – 167.5 s [13.9 s]\n",
      "    185.0 – 226.4 s [41.4 s]\n",
      "    243.9 – 256.7 s [12.8 s]\n",
      "    274.2 – 287.5 s [13.3 s]\n",
      "    305.0 – 318.4 s [13.4 s]\n",
      "    335.9 – 349.2 s [13.3 s]\n",
      "    366.7 – 380.7 s [14.0 s]\n",
      "In total, 46.0% of the data (183.2 s) have been marked as a break.\n",
      "\n"
     ]
    }
   ],
   "source": [
    "# Annotate resting/breaks.\n",
    "MIN_BREAK_DURATION = 6\n",
    "\n",
    "for s, data in subj_data.items():\n",
    "    breaks = mne.preprocessing.annotate_break(\n",
    "        data.preproc,\n",
    "        min_break_duration=MIN_BREAK_DURATION,\n",
    "        t_start_after_previous=5,\n",
    "        t_stop_before_next=0.5,\n",
    "        verbose=True,\n",
    "    )\n",
    "    breaks.rename({\"BAD_break\": \"break\"})\n",
    "    data.preproc.annotations.append(\n",
    "        onset=breaks.onset, duration=breaks.duration, description=breaks.description\n",
    "    )"
   ]
  },
  {
   "cell_type": "code",
   "execution_count": 8,
   "metadata": {},
   "outputs": [
    {
     "name": "stdout",
     "output_type": "stream",
     "text": [
      "Reading 0 ... 2883899  =      0.000 ...   576.780 secs...\n",
      "EEG channel type selected for re-referencing\n",
      "Applying average reference.\n",
      "Applying a custom ('EEG',) reference.\n",
      "Reading 0 ... 1860199  =      0.000 ...   372.040 secs...\n",
      "EEG channel type selected for re-referencing\n",
      "Applying average reference.\n",
      "Applying a custom ('EEG',) reference.\n",
      "Reading 0 ... 1989299  =      0.000 ...   397.860 secs...\n",
      "EEG channel type selected for re-referencing\n",
      "Applying average reference.\n",
      "Applying a custom ('EEG',) reference.\n",
      "Filtering raw data in 1 contiguous segment\n",
      "Setting up band-stop filter\n",
      "\n",
      "FIR filter parameters\n",
      "---------------------\n",
      "Designing a one-pass, zero-phase, non-causal bandstop filter:\n",
      "- Windowed time-domain design (firwin) method\n",
      "- Hamming window with 0.0194 passband ripple and 53 dB stopband attenuation\n",
      "- Lower transition bandwidth: 0.50 Hz\n",
      "- Upper transition bandwidth: 0.50 Hz\n",
      "- Filter length: 33001 samples (6.600 s)\n",
      "\n"
     ]
    },
    {
     "name": "stderr",
     "output_type": "stream",
     "text": [
      "[Parallel(n_jobs=1)]: Done  17 tasks      | elapsed:    1.8s\n"
     ]
    },
    {
     "name": "stdout",
     "output_type": "stream",
     "text": [
      "Filtering raw data in 1 contiguous segment\n",
      "Setting up band-stop filter\n",
      "\n",
      "FIR filter parameters\n",
      "---------------------\n",
      "Designing a one-pass, zero-phase, non-causal bandstop filter:\n",
      "- Windowed time-domain design (firwin) method\n",
      "- Hamming window with 0.0194 passband ripple and 53 dB stopband attenuation\n",
      "- Lower transition bandwidth: 0.50 Hz\n",
      "- Upper transition bandwidth: 0.50 Hz\n",
      "- Filter length: 33001 samples (6.600 s)\n",
      "\n"
     ]
    },
    {
     "name": "stderr",
     "output_type": "stream",
     "text": [
      "[Parallel(n_jobs=1)]: Done  17 tasks      | elapsed:    1.2s\n"
     ]
    },
    {
     "name": "stdout",
     "output_type": "stream",
     "text": [
      "Filtering raw data in 1 contiguous segment\n",
      "Setting up band-stop filter\n",
      "\n",
      "FIR filter parameters\n",
      "---------------------\n",
      "Designing a one-pass, zero-phase, non-causal bandstop filter:\n",
      "- Windowed time-domain design (firwin) method\n",
      "- Hamming window with 0.0194 passband ripple and 53 dB stopband attenuation\n",
      "- Lower transition bandwidth: 0.50 Hz\n",
      "- Upper transition bandwidth: 0.50 Hz\n",
      "- Filter length: 33001 samples (6.600 s)\n",
      "\n"
     ]
    },
    {
     "name": "stderr",
     "output_type": "stream",
     "text": [
      "[Parallel(n_jobs=1)]: Done  17 tasks      | elapsed:    1.3s\n"
     ]
    }
   ],
   "source": [
    "# Apply reference channel as the average of all good channels\n",
    "for s in subj_data.keys():\n",
    "    subj_data[s].preproc.load_data()\n",
    "    subj_data[s].preproc.set_eeg_reference(\"average\")\n",
    "\n",
    "# Filter out power line noise with a notch filter\n",
    "# Only spikes at 60Hz and 180Hz were visible in these data.\n",
    "POWER_LINE_FREQS = (60, 180)\n",
    "\n",
    "for s in subj_data.keys():\n",
    "    subj_data[s].preproc.load_data()\n",
    "    subj_data[s].preproc.notch_filter(POWER_LINE_FREQS)"
   ]
  },
  {
   "cell_type": "code",
   "execution_count": null,
   "metadata": {},
   "outputs": [],
   "source": [
    "# r = subj_data.S001.raw.copy()\n",
    "# r.set_eeg_reference('average')\n",
    "# r.filter(l_freq=1.0, h_freq=None)\n",
    "# r.plot(remove_dc=True, butterfly=True);"
   ]
  },
  {
   "cell_type": "code",
   "execution_count": 10,
   "metadata": {},
   "outputs": [
    {
     "name": "stdout",
     "output_type": "stream",
     "text": [
      "S001\n",
      "Local minimum 1.5672807272697242 found\n",
      "Bridge detected between P4 and P8\n",
      "Bridge detected between P4 and P6\n",
      "Bridge detected between P8 and P6\n",
      "S002\n",
      "Local minimum 1.6776442464406511 found\n",
      "Bridge detected between O1 and PO4\n",
      "Bridge detected between P8 and CP6\n",
      "Bridge detected between P8 and TP8\n",
      "Bridge detected between P8 and C2\n",
      "Bridge detected between CP6 and TP8\n",
      "Bridge detected between CP6 and C2\n",
      "Bridge detected between TP8 and C2\n",
      "******* Overriding bridged index for subj S002\n",
      "S003\n",
      "Local minimum 1.986380312937491 found\n",
      "Bridge detected between FT9 and F1\n",
      "Bridge detected between Pz and PO7\n",
      "Bridge detected between P3 and P7\n",
      "Bridge detected between P3 and POz\n",
      "Bridge detected between P7 and POz\n",
      "Bridge detected between Oz and O2\n",
      "Bridge detected between Oz and PO8\n",
      "Bridge detected between Oz and P2\n",
      "Bridge detected between O2 and PO8\n",
      "Bridge detected between O2 and P2\n",
      "Bridge detected between P4 and P6\n",
      "Bridge detected between P8 and CP6\n",
      "Bridge detected between P8 and TP8\n",
      "Bridge detected between CP6 and TP8\n",
      "Bridge detected between FC6 and F2\n",
      "Bridge detected between PO8 and P2\n",
      "******* Overriding bridged index for subj S003\n"
     ]
    }
   ],
   "source": [
    "# Keep track of bridged electrodes for later interpolation.\n",
    "\n",
    "# Override some bridge indices, as they seem spatially unlikely.\n",
    "BRIDGE_OVERRIDE = {\n",
    "    \"S002\": [(19, 21), (19, 54), (21, 54)],\n",
    "    \"S003\": [\n",
    "        # REMOVE (4, 35) # (FT9, F1)\n",
    "        # REMOVE (12, 45) # (Pz, PO7))\n",
    "        (13, 14),  # (P3, P7)\n",
    "        (13, 47),  # (P3, POz)\n",
    "        (14, 47),  # (P7, POz)\n",
    "        (16, 17),  # (Oz, O2)\n",
    "        (16, 49),  # (Oz, PO8)\n",
    "        (16, 51),  # (Oz, P2)\n",
    "        (17, 49),  # (O2, PO8)\n",
    "        (17, 51),  # (O2, P2)\n",
    "        (18, 50),  # (P4, P6)\n",
    "        (19, 21),  # (P8, CP6)\n",
    "        (19, 54),  # (P8, TP8)\n",
    "        (21, 54),  # (CP6, TP8)\n",
    "        # REMOVE (27, 62) # (FC6, F2)\n",
    "        (49, 51),  # (PO8, P2)\n",
    "    ],\n",
    "}\n",
    "\n",
    "for subj_id in SUBJ_IDS:\n",
    "    print(subj_id)\n",
    "    t = subj_data[subj_id].preproc.times\n",
    "    # Find signal distances on raw data, on a smaller section of the data, ~4 minutes.\n",
    "    short_span = (\n",
    "        subj_data[subj_id]\n",
    "        .preproc.copy()\n",
    "        .crop(tmin=t.max() - ((4 * 60) + 20), tmax=t.max() - 20)\n",
    "    )\n",
    "    short_span.load_data()\n",
    "    # These parameters are *very* forgiving when it comes to overlooking potential\n",
    "    # bridges. Otherwise, a ton of the data would be thrown out in at least 2 subjects.\n",
    "    bridged_idx, ed_matrix = mne.preprocessing.compute_bridged_electrodes(\n",
    "        short_span, epoch_threshold=0.9, lm_cutoff=5.0, verbose=True\n",
    "    )\n",
    "\n",
    "    subj_data[subj_id].bridged_idx = bridged_idx\n",
    "    subj_data[subj_id].ed_matrix = ed_matrix\n",
    "    if subj_id in BRIDGE_OVERRIDE.keys():\n",
    "        print(\"******* Overriding bridged index for subj\", subj_id)\n",
    "        subj_data[subj_id].bridged_idx = BRIDGE_OVERRIDE[subj_id]"
   ]
  },
  {
   "cell_type": "code",
   "execution_count": null,
   "metadata": {},
   "outputs": [],
   "source": []
  },
  {
   "cell_type": "code",
   "execution_count": 11,
   "metadata": {},
   "outputs": [
    {
     "name": "stdout",
     "output_type": "stream",
     "text": [
      "Creating RawArray with float64 data, n_channels=1, n_times=2883900\n",
      "    Range : 0 ... 2883899 =      0.000 ...   576.780 secs\n",
      "Ready.\n",
      "    Range : 0 ... 2883899 =      0.000 ...   576.780 secs\n",
      "Ready.\n",
      "Interpolating bad channels\n",
      "    Automatic origin fit: head of radius 95.0 mm\n",
      "Computing interpolation matrix from 62 sensor positions\n",
      "Interpolating 3 sensors\n",
      "Creating RawArray with float64 data, n_channels=1, n_times=1860200\n",
      "    Range : 0 ... 1860199 =      0.000 ...   372.040 secs\n",
      "Ready.\n",
      "Interpolating bad channels\n",
      "    Automatic origin fit: head of radius 95.0 mm\n",
      "Computing interpolation matrix from 62 sensor positions\n",
      "Interpolating 3 sensors\n",
      "Creating RawArray with float64 data, n_channels=1, n_times=1989300\n",
      "    Range : 0 ... 1989299 =      0.000 ...   397.860 secs\n",
      "Ready.\n",
      "Creating RawArray with float64 data, n_channels=1, n_times=1989300\n",
      "    Range : 0 ... 1989299 =      0.000 ...   397.860 secs\n",
      "Ready.\n",
      "Creating RawArray with float64 data, n_channels=1, n_times=1989300\n",
      "    Range : 0 ... 1989299 =      0.000 ...   397.860 secs\n",
      "Ready.\n",
      "Creating RawArray with float64 data, n_channels=1, n_times=1989300\n",
      "    Range : 0 ... 1989299 =      0.000 ...   397.860 secs\n",
      "Ready.\n",
      "Interpolating bad channels\n",
      "    Automatic origin fit: head of radius 95.0 mm\n",
      "Computing interpolation matrix from 56 sensor positions\n",
      "Interpolating 12 sensors\n"
     ]
    }
   ],
   "source": [
    "# Interpolate virtual channels to fill in the bridged electrodes.\n",
    "for subj_id in SUBJ_IDS:\n",
    "    bridge_idx = subj_data[subj_id].bridged_idx\n",
    "    subj_data[subj_id].preproc = mne.preprocessing.interpolate_bridged_electrodes(\n",
    "        subj_data[subj_id].preproc, bridge_idx, bad_limit=(len(bridge_idx) * 2)\n",
    "    )"
   ]
  },
  {
   "cell_type": "code",
   "execution_count": null,
   "metadata": {},
   "outputs": [],
   "source": [
    "# Visualize bridged connections for a subject.\n",
    "fig, (ax1, ax2) = plt.subplots(1, 2, figsize=(8, 4))\n",
    "\n",
    "s = \"S002\"\n",
    "t = subj_data[s].preproc.times\n",
    "# short_span = (\n",
    "#     subj_data[s]\n",
    "#     .preproc.copy()\n",
    "#     .crop(tmin=t.max() - ((4 * 60) + 20), tmax=t.max() - 20)\n",
    "# )\n",
    "short_span = (\n",
    "    subj_data[s].raw.copy().crop(tmin=t.max() - ((4 * 60) + 20), tmax=t.max() - 20)\n",
    ")\n",
    "short_span.load_data()\n",
    "# These parameters are *very* forgiving when it comes to overlooking potential\n",
    "# bridges. Otherwise, a ton of the data would be thrown out in at least 2 subjects.\n",
    "bridged_idx, ed_matrix = mne.preprocessing.compute_bridged_electrodes(\n",
    "    short_span, epoch_threshold=0.9, lm_cutoff=5.0, verbose=True\n",
    ")\n",
    "\n",
    "# med_dist = np.nanquantile(ed_matrix, 0.9, axis=0)\n",
    "med_dist = np.nanmedian(ed_matrix, axis=0)\n",
    "im1 = ax1.imshow(med_dist, cmap=\"magma\")\n",
    "cax1 = fig.colorbar(im1, ax=ax1)\n",
    "cax1.set_label(r\"Electrical Distance ($\\mu$$V^2$)\")\n",
    "\n",
    "im2 = ax2.imshow(med_dist, cmap=\"magma\", vmax=5)\n",
    "cax2 = fig.colorbar(im2, ax=ax2)\n",
    "cax2.set_label(r\"Electrical Distance ($\\mu$$V^2$)\")\n",
    "plt.show()\n",
    "\n",
    "mne.viz.plot_bridged_electrodes(\n",
    "    # subj_data[s].preproc.info,\n",
    "    subj_data[s].raw.info,\n",
    "    bridged_idx,\n",
    "    ed_matrix,\n",
    "    topomap_args=dict(vlim=(None, 5)),\n",
    ")\n",
    "plt.show()\n",
    "\n",
    "subset_raws = list()\n",
    "for pair_i, (br_j, br_k) in enumerate(bridged_idx):\n",
    "    # ch_j = subj_data[s].preproc.ch_names[br_j]\n",
    "    # ch_k = subj_data[s].preproc.ch_names[br_k]\n",
    "    ch_j = subj_data[s].raw.ch_names[br_j]\n",
    "    ch_k = subj_data[s].raw.ch_names[br_k]\n",
    "\n",
    "    print(f\"({ch_j}, {ch_k}) | ({br_j}, {br_k})\")\n",
    "    subset_raws.append(\n",
    "        subj_data[s]\n",
    "        .raw.copy()\n",
    "        .pick([ch_j, ch_k])\n",
    "        .rename_channels({ch_j: f\"{pair_i}_{ch_j}\", ch_k: f\"{pair_i}_{ch_k}\"})\n",
    "    )\n",
    "    # subset_raws.append(\n",
    "    #     subj_data[s]\n",
    "    #     .preproc.copy()\n",
    "    #     .pick([ch_j, ch_k])\n",
    "    #     .rename_channels({ch_j: f\"{pair_i}_{ch_j}\", ch_k: f\"{pair_i}_{ch_k}\"})\n",
    "    # )\n",
    "subset_raws[0].add_channels(subset_raws[1:]).plot()"
   ]
  },
  {
   "cell_type": "markdown",
   "metadata": {},
   "source": [
    "#### EOG Correction"
   ]
  },
  {
   "cell_type": "code",
   "execution_count": 12,
   "metadata": {},
   "outputs": [],
   "source": [
    "ICA_COMPONENT_VARIANCE_SUM = 0.99\n",
    "# The number used during reconstruction will be:\n",
    "# the number of ICA components + (number of PCA components - number of ICA components)\n",
    "# with the latter term being the \"PCA residuals\""
   ]
  },
  {
   "cell_type": "markdown",
   "metadata": {},
   "source": [
    "### Fit ICA"
   ]
  },
  {
   "cell_type": "code",
   "execution_count": 17,
   "metadata": {},
   "outputs": [
    {
     "data": {
      "text/html": [
       "<table class=\"table table-hover table-striped table-sm table-responsive small\">\n",
       "    <tr>\n",
       "        <th>Measurement date</th>\n",
       "        \n",
       "        <td>Unknown</td>\n",
       "        \n",
       "    </tr>\n",
       "    <tr>\n",
       "        <th>Experimenter</th>\n",
       "        \n",
       "        <td>Unknown</td>\n",
       "        \n",
       "    </tr>\n",
       "        <th>Participant</th>\n",
       "        \n",
       "        <td>Unknown</td>\n",
       "        \n",
       "    </tr>\n",
       "    <tr>\n",
       "        <th>Digitized points</th>\n",
       "        \n",
       "        <td>68 points</td>\n",
       "        \n",
       "    </tr>\n",
       "    <tr>\n",
       "        <th>Good channels</th>\n",
       "        <td>64 EEG</td>\n",
       "    </tr>\n",
       "    <tr>\n",
       "        <th>Bad channels</th>\n",
       "        <td>FT10, AF7, FT8, FC2</td>\n",
       "    </tr>\n",
       "    <tr>\n",
       "        <th>EOG channels</th>\n",
       "        <td>Not available</td>\n",
       "    </tr>\n",
       "    <tr>\n",
       "        <th>ECG channels</th>\n",
       "        <td>Not available</td>\n",
       "    \n",
       "    <tr>\n",
       "        <th>Sampling frequency</th>\n",
       "        <td>5000.00 Hz</td>\n",
       "    </tr>\n",
       "    \n",
       "    \n",
       "    <tr>\n",
       "        <th>Highpass</th>\n",
       "        <td>0.00 Hz</td>\n",
       "    </tr>\n",
       "    \n",
       "    \n",
       "    <tr>\n",
       "        <th>Lowpass</th>\n",
       "        <td>2500.00 Hz</td>\n",
       "    </tr>\n",
       "    \n",
       "    \n",
       "</table>"
      ],
      "text/plain": [
       "<Info | 10 non-empty values\n",
       " bads: 4 items (FT10, AF7, FT8, FC2)\n",
       " ch_names: Fp1, Fz, F3, F7, FT9, FC5, FC1, C3, T7, TP9, CP5, CP1, Pz, P3, ...\n",
       " chs: 64 EEG\n",
       " custom_ref_applied: True\n",
       " dig: 68 items (3 Cardinal, 65 EEG)\n",
       " highpass: 0.0 Hz\n",
       " lowpass: 2500.0 Hz\n",
       " meas_date: unspecified\n",
       " nchan: 64\n",
       " projs: []\n",
       " sfreq: 5000.0 Hz\n",
       ">"
      ]
     },
     "execution_count": 17,
     "metadata": {},
     "output_type": "execute_result"
    }
   ],
   "source": [
    "data.preproc.info"
   ]
  },
  {
   "cell_type": "code",
   "execution_count": 18,
   "metadata": {},
   "outputs": [
    {
     "name": "stdout",
     "output_type": "stream",
     "text": [
      "EEG channel type selected for re-referencing\n",
      "Applying average reference.\n",
      "Applying a custom ('EEG',) reference.\n",
      "Filtering raw data in 1 contiguous segment\n",
      "Setting up high-pass filter at 1 Hz\n",
      "\n",
      "FIR filter parameters\n",
      "---------------------\n",
      "Designing a one-pass, zero-phase, non-causal highpass filter:\n",
      "- Windowed time-domain design (firwin) method\n",
      "- Hamming window with 0.0194 passband ripple and 53 dB stopband attenuation\n",
      "- Lower passband edge: 1.00\n",
      "- Lower transition bandwidth: 1.00 Hz (-6 dB cutoff frequency: 0.50 Hz)\n",
      "- Filter length: 16501 samples (3.300 s)\n",
      "\n"
     ]
    },
    {
     "name": "stderr",
     "output_type": "stream",
     "text": [
      "[Parallel(n_jobs=1)]: Done  17 tasks      | elapsed:    1.4s\n"
     ]
    },
    {
     "name": "stdout",
     "output_type": "stream",
     "text": [
      "Used Annotations descriptions: ['break']\n",
      "Not setting metadata\n",
      "13 matching events found\n",
      "Setting baseline interval to [-3.0, 3.0] s\n",
      "Applying baseline correction (mode: mean)\n",
      "0 projection items activated\n",
      "Using data from preloaded Raw for 13 events and 30001 original time points ...\n",
      "0 bad epochs dropped\n",
      "Fitting ICA to data using 64 channels (please be patient, this may take a while)\n",
      "Computing rank from covariance with rank=None\n",
      "    Using tolerance 1.4e-11 (2.2e-16 eps * 64 dim * 1e+03  max singular value)\n",
      "    Estimated rank (eeg): 62\n",
      "    EEG: rank 62 computed from 64 data channels with 0 projectors\n",
      "    Setting small EEG eigenvalues to zero (without PCA)\n",
      "    Created the whitener using a noise covariance matrix with rank 62 (2 small eigenvalues omitted)\n",
      "Selecting by explained variance: 54 components\n",
      "Fitting ICA took 258.9s.\n",
      "Subj S001 ICA | iterations 2883900, components 54\n",
      "EEG channel type selected for re-referencing\n",
      "Applying average reference.\n",
      "Applying a custom ('EEG',) reference.\n",
      "Filtering raw data in 1 contiguous segment\n",
      "Setting up high-pass filter at 1 Hz\n",
      "\n",
      "FIR filter parameters\n",
      "---------------------\n",
      "Designing a one-pass, zero-phase, non-causal highpass filter:\n",
      "- Windowed time-domain design (firwin) method\n",
      "- Hamming window with 0.0194 passband ripple and 53 dB stopband attenuation\n",
      "- Lower passband edge: 1.00\n",
      "- Lower transition bandwidth: 1.00 Hz (-6 dB cutoff frequency: 0.50 Hz)\n",
      "- Filter length: 16501 samples (3.300 s)\n",
      "\n"
     ]
    },
    {
     "name": "stderr",
     "output_type": "stream",
     "text": [
      "[Parallel(n_jobs=1)]: Done  17 tasks      | elapsed:    0.9s\n"
     ]
    },
    {
     "name": "stdout",
     "output_type": "stream",
     "text": [
      "Used Annotations descriptions: ['break']\n",
      "Not setting metadata\n",
      "13 matching events found\n",
      "Setting baseline interval to [-3.0, 3.0] s\n",
      "Applying baseline correction (mode: mean)\n",
      "0 projection items activated\n",
      "Using data from preloaded Raw for 13 events and 30001 original time points ...\n",
      "0 bad epochs dropped\n",
      "Fitting ICA to data using 60 channels (please be patient, this may take a while)\n",
      "Computing rank from covariance with rank=None\n",
      "    Using tolerance 4.8e-12 (2.2e-16 eps * 60 dim * 3.6e+02  max singular value)\n",
      "    Estimated rank (eeg): 58\n",
      "    EEG: rank 58 computed from 60 data channels with 0 projectors\n",
      "    Setting small EEG eigenvalues to zero (without PCA)\n",
      "    Created the whitener using a noise covariance matrix with rank 58 (2 small eigenvalues omitted)\n",
      "Selecting by explained variance: 52 components\n",
      "Fitting ICA took 318.1s.\n",
      "Subj S002 ICA | iterations 1860200, components 52\n",
      "Reading 0 ... 1989299  =      0.000 ...   397.860 secs...\n",
      "EEG channel type selected for re-referencing\n",
      "Applying average reference.\n",
      "Applying a custom ('EEG',) reference.\n",
      "Filtering raw data in 1 contiguous segment\n",
      "Setting up high-pass filter at 1 Hz\n",
      "\n",
      "FIR filter parameters\n",
      "---------------------\n",
      "Designing a one-pass, zero-phase, non-causal highpass filter:\n",
      "- Windowed time-domain design (firwin) method\n",
      "- Hamming window with 0.0194 passband ripple and 53 dB stopband attenuation\n",
      "- Lower passband edge: 1.00\n",
      "- Lower transition bandwidth: 1.00 Hz (-6 dB cutoff frequency: 0.50 Hz)\n",
      "- Filter length: 16501 samples (3.300 s)\n",
      "\n"
     ]
    },
    {
     "name": "stderr",
     "output_type": "stream",
     "text": [
      "[Parallel(n_jobs=1)]: Done  17 tasks      | elapsed:    0.9s\n"
     ]
    },
    {
     "name": "stdout",
     "output_type": "stream",
     "text": [
      "Used Annotations descriptions: ['break']\n",
      "Not setting metadata\n",
      "12 matching events found\n",
      "Setting baseline interval to [-3.0, 3.0] s\n",
      "Applying baseline correction (mode: mean)\n",
      "0 projection items activated\n",
      "Using data from preloaded Raw for 12 events and 30001 original time points ...\n",
      "0 bad epochs dropped\n",
      "Fitting ICA to data using 64 channels (please be patient, this may take a while)\n",
      "Computing rank from covariance with rank=None\n",
      "    Using tolerance 2.9e-12 (2.2e-16 eps * 64 dim * 2e+02  max singular value)\n",
      "    Estimated rank (eeg): 55\n",
      "    EEG: rank 55 computed from 64 data channels with 0 projectors\n",
      "    Setting small EEG eigenvalues to zero (without PCA)\n",
      "    Created the whitener using a noise covariance matrix with rank 55 (9 small eigenvalues omitted)\n",
      "Selecting by explained variance: 16 components\n",
      "Fitting ICA took 282.5s.\n",
      "Subj S003 ICA | iterations 1989300, components 16\n"
     ]
    },
    {
     "data": {
      "application/vnd.jupyter.widget-view+json": {
       "model_id": "5a09af47c99f4e9fad93f43e3797610f",
       "version_major": 2,
       "version_minor": 0
      },
      "image/png": "[encoded data removed]",
      "text/html": [
       "\n",
       "            <div style=\"display: inline-block;\">\n",
       "                <div class=\"jupyter-widgets widget-label\" style=\"text-align: center;\">\n",
       "                    Figure\n",
       "                </div>\n",
       "                <img src='data:image/png;base64,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' width=768.0/>\n",
       "            </div>\n",
       "        "
      ],
      "text/plain": [
       "Canvas(toolbar=Toolbar(toolitems=[('Home', 'Reset original view', 'home', 'home'), ('Back', 'Back to previous …"
      ]
     },
     "metadata": {},
     "output_type": "display_data"
    }
   ],
   "source": [
    "plt.clf()\n",
    "plt.figure(dpi=120)\n",
    "for subj_id, data in subj_data.items():\n",
    "    # Fit ICA to original, raw data\n",
    "    # High-pass filter to remove potential slow drift.\n",
    "    raw = data.raw.load_data().copy()\n",
    "    if len(data.preproc.info[\"bads\"]) > 0:\n",
    "        raw.info[\"bads\"] = data.preproc.info[\"bads\"]\n",
    "    raw.set_eeg_reference(\"average\")\n",
    "    raw_filtered = raw.copy().filter(l_freq=1.0, h_freq=None)\n",
    "\n",
    "    # Determine the number of PCA components from, roughly, the rank of the output\n",
    "    # according to the number of \"merged\" electrodes caused by bridged connections.\n",
    "    g = networkx.parse_edgelist(\n",
    "        [f\"{i[0]} {i[1]}\" for i in list(subj_data[subj_id].bridged_idx)]\n",
    "    )\n",
    "    n_cliques = len(list(networkx.find_cliques(g)))\n",
    "    n_bridges = len(subj_data[subj_id].bridged_idx)\n",
    "    n_channels = len(set(data.preproc.ch_names) - set(data.preproc.info[\"bads\"]))\n",
    "    rank = n_channels - n_bridges + n_cliques\n",
    "    subj_data[subj_id].rank = rank\n",
    "\n",
    "    # Calculate noise covariance matrix for pre-whitening.\n",
    "    break_events, break_event_ids = mne.events_from_annotations(\n",
    "        data.preproc, regexp=\"break\"\n",
    "    )\n",
    "    break_epochs = mne.Epochs(\n",
    "        raw,\n",
    "        break_events,\n",
    "        break_event_ids[\"break\"],\n",
    "        tmin=-MIN_BREAK_DURATION / 2,\n",
    "        tmax=MIN_BREAK_DURATION / 2,\n",
    "        baseline=(None, None),\n",
    "        preload=True,\n",
    "    )\n",
    "    noise_cov = mne.compute_covariance(\n",
    "        break_epochs, rank={\"eeg\": subj_data[subj_id].rank}, verbose=\"error\"\n",
    "    )\n",
    "\n",
    "    ica = mne.preprocessing.ICA(\n",
    "        n_components=ICA_COMPONENT_VARIANCE_SUM,\n",
    "        noise_cov=noise_cov,\n",
    "        method=\"picard\",\n",
    "        max_iter=\"auto\",\n",
    "        verbose=True,\n",
    "    )\n",
    "    ica = ica.fit(raw_filtered, verbose=True)\n",
    "\n",
    "    subj_data[subj_id].ica = ica\n",
    "\n",
    "    print(\n",
    "        f\"Subj {subj_id} ICA | iterations {ica.n_samples_}, components {ica.n_components_}\"\n",
    "    )\n",
    "    expl_var = ica.pca_explained_variance_ / ica.pca_explained_variance_.sum()\n",
    "    explained_var_cumsum = np.cumsum(expl_var)\n",
    "    plt.plot(\n",
    "        np.arange(explained_var_cumsum.shape[0]) + 1,\n",
    "        explained_var_cumsum,\n",
    "        label=subj_id,\n",
    "        marker=\".\",\n",
    "        alpha=0.7,\n",
    "        lw=2.0,\n",
    "    )\n",
    "\n",
    "plt.legend()\n",
    "plt.xlabel(\"Principle Component Index\")\n",
    "plt.ylabel(\"Cumulative Explained Variance\")\n",
    "plt.show()"
   ]
  },
  {
   "cell_type": "code",
   "execution_count": 19,
   "metadata": {},
   "outputs": [
    {
     "name": "stdout",
     "output_type": "stream",
     "text": [
      "Using EOG channels: Fp1, Fp2\n",
      "Omitting 1053300 of 2873900 (36.65%) samples, retaining 1820600 (63.35%) samples.\n",
      "Omitting 1053300 of 2873900 (36.65%) samples, retaining 1820600 (63.35%) samples.\n",
      "Omitting 1053300 of 2873900 (36.65%) samples, retaining 1820600 (63.35%) samples.\n",
      "... filtering ICA sources\n",
      "Setting up band-pass filter from 1 - 10 Hz\n",
      "\n",
      "FIR filter parameters\n",
      "---------------------\n",
      "Designing a two-pass forward and reverse, zero-phase, non-causal bandpass filter:\n",
      "- Windowed frequency-domain design (firwin2) method\n",
      "- Hann window\n",
      "- Lower passband edge: 1.00\n",
      "- Lower transition bandwidth: 0.50 Hz (-12 dB cutoff frequency: 0.75 Hz)\n",
      "- Upper passband edge: 10.00 Hz\n",
      "- Upper transition bandwidth: 0.50 Hz (-12 dB cutoff frequency: 10.25 Hz)\n",
      "- Filter length: 50000 samples (10.000 s)\n",
      "\n"
     ]
    },
    {
     "name": "stderr",
     "output_type": "stream",
     "text": [
      "[Parallel(n_jobs=1)]: Done  17 tasks      | elapsed:    1.4s\n"
     ]
    },
    {
     "name": "stdout",
     "output_type": "stream",
     "text": [
      "... filtering target\n",
      "Setting up band-pass filter from 1 - 10 Hz\n",
      "\n",
      "FIR filter parameters\n",
      "---------------------\n",
      "Designing a two-pass forward and reverse, zero-phase, non-causal bandpass filter:\n",
      "- Windowed frequency-domain design (firwin2) method\n",
      "- Hann window\n",
      "- Lower passband edge: 1.00\n",
      "- Lower transition bandwidth: 0.50 Hz (-12 dB cutoff frequency: 0.75 Hz)\n",
      "- Upper passband edge: 10.00 Hz\n",
      "- Upper transition bandwidth: 0.50 Hz (-12 dB cutoff frequency: 10.25 Hz)\n",
      "- Filter length: 50000 samples (10.000 s)\n",
      "\n",
      "Omitting 1053300 of 2873900 (36.65%) samples, retaining 1820600 (63.35%) samples.\n",
      "... filtering ICA sources\n",
      "Setting up band-pass filter from 1 - 10 Hz\n",
      "\n",
      "FIR filter parameters\n",
      "---------------------\n",
      "Designing a two-pass forward and reverse, zero-phase, non-causal bandpass filter:\n",
      "- Windowed frequency-domain design (firwin2) method\n",
      "- Hann window\n",
      "- Lower passband edge: 1.00\n",
      "- Lower transition bandwidth: 0.50 Hz (-12 dB cutoff frequency: 0.75 Hz)\n",
      "- Upper passband edge: 10.00 Hz\n",
      "- Upper transition bandwidth: 0.50 Hz (-12 dB cutoff frequency: 10.25 Hz)\n",
      "- Filter length: 50000 samples (10.000 s)\n",
      "\n"
     ]
    },
    {
     "name": "stderr",
     "output_type": "stream",
     "text": [
      "[Parallel(n_jobs=1)]: Done  17 tasks      | elapsed:    1.4s\n"
     ]
    },
    {
     "name": "stdout",
     "output_type": "stream",
     "text": [
      "... filtering target\n",
      "Setting up band-pass filter from 1 - 10 Hz\n",
      "\n",
      "FIR filter parameters\n",
      "---------------------\n",
      "Designing a two-pass forward and reverse, zero-phase, non-causal bandpass filter:\n",
      "- Windowed frequency-domain design (firwin2) method\n",
      "- Hann window\n",
      "- Lower passband edge: 1.00\n",
      "- Lower transition bandwidth: 0.50 Hz (-12 dB cutoff frequency: 0.75 Hz)\n",
      "- Upper passband edge: 10.00 Hz\n",
      "- Upper transition bandwidth: 0.50 Hz (-12 dB cutoff frequency: 10.25 Hz)\n",
      "- Filter length: 50000 samples (10.000 s)\n",
      "\n",
      "Setting 1053300 of 2873900 (36.65%) samples to NaN, retaining 1820600 (63.35%) samples.\n",
      "Effective window size : 0.410 (s)\n",
      "EOG components: [45] | Muscle components: [0, 1, 2, 5, 7, 14, 17, 19, 21, 23, 27, 32, 45]\n",
      "Applying ICA to Raw instance\n",
      "    Transforming to ICA space (54 components)\n",
      "    Zeroing out 13 ICA components\n",
      "    Projecting back using 62 PCA components\n",
      "EEG channel type selected for re-referencing\n",
      "Applying average reference.\n",
      "Applying a custom ('EEG',) reference.\n",
      "Filtering raw data in 1 contiguous segment\n",
      "Setting up high-pass filter at 1 Hz\n",
      "\n",
      "FIR filter parameters\n",
      "---------------------\n",
      "Designing a one-pass, zero-phase, non-causal highpass filter:\n",
      "- Windowed time-domain design (firwin) method\n",
      "- Hamming window with 0.0194 passband ripple and 53 dB stopband attenuation\n",
      "- Lower passband edge: 1.00\n",
      "- Lower transition bandwidth: 1.00 Hz (-6 dB cutoff frequency: 0.50 Hz)\n",
      "- Filter length: 16501 samples (3.300 s)\n",
      "\n"
     ]
    },
    {
     "name": "stderr",
     "output_type": "stream",
     "text": [
      "[Parallel(n_jobs=1)]: Done  17 tasks      | elapsed:    1.4s\n"
     ]
    },
    {
     "name": "stdout",
     "output_type": "stream",
     "text": [
      "Using EOG channels: Fp1, Fp2\n",
      "Omitting 176655 of 1850200 (9.55%) samples, retaining 1673545 (90.45%) samples.\n",
      "Omitting 176655 of 1850200 (9.55%) samples, retaining 1673545 (90.45%) samples.\n",
      "Omitting 176655 of 1850200 (9.55%) samples, retaining 1673545 (90.45%) samples.\n",
      "... filtering ICA sources\n",
      "Setting up band-pass filter from 1 - 10 Hz\n",
      "\n",
      "FIR filter parameters\n",
      "---------------------\n",
      "Designing a two-pass forward and reverse, zero-phase, non-causal bandpass filter:\n",
      "- Windowed frequency-domain design (firwin2) method\n",
      "- Hann window\n",
      "- Lower passband edge: 1.00\n",
      "- Lower transition bandwidth: 0.50 Hz (-12 dB cutoff frequency: 0.75 Hz)\n",
      "- Upper passband edge: 10.00 Hz\n",
      "- Upper transition bandwidth: 0.50 Hz (-12 dB cutoff frequency: 10.25 Hz)\n",
      "- Filter length: 50000 samples (10.000 s)\n",
      "\n"
     ]
    },
    {
     "name": "stderr",
     "output_type": "stream",
     "text": [
      "[Parallel(n_jobs=1)]: Done  17 tasks      | elapsed:    1.7s\n"
     ]
    },
    {
     "name": "stdout",
     "output_type": "stream",
     "text": [
      "... filtering target\n",
      "Setting up band-pass filter from 1 - 10 Hz\n",
      "\n",
      "FIR filter parameters\n",
      "---------------------\n",
      "Designing a two-pass forward and reverse, zero-phase, non-causal bandpass filter:\n",
      "- Windowed frequency-domain design (firwin2) method\n",
      "- Hann window\n",
      "- Lower passband edge: 1.00\n",
      "- Lower transition bandwidth: 0.50 Hz (-12 dB cutoff frequency: 0.75 Hz)\n",
      "- Upper passband edge: 10.00 Hz\n",
      "- Upper transition bandwidth: 0.50 Hz (-12 dB cutoff frequency: 10.25 Hz)\n",
      "- Filter length: 50000 samples (10.000 s)\n",
      "\n",
      "Omitting 176655 of 1850200 (9.55%) samples, retaining 1673545 (90.45%) samples.\n",
      "... filtering ICA sources\n",
      "Setting up band-pass filter from 1 - 10 Hz\n",
      "\n",
      "FIR filter parameters\n",
      "---------------------\n",
      "Designing a two-pass forward and reverse, zero-phase, non-causal bandpass filter:\n",
      "- Windowed frequency-domain design (firwin2) method\n",
      "- Hann window\n",
      "- Lower passband edge: 1.00\n",
      "- Lower transition bandwidth: 0.50 Hz (-12 dB cutoff frequency: 0.75 Hz)\n",
      "- Upper passband edge: 10.00 Hz\n",
      "- Upper transition bandwidth: 0.50 Hz (-12 dB cutoff frequency: 10.25 Hz)\n",
      "- Filter length: 50000 samples (10.000 s)\n",
      "\n"
     ]
    },
    {
     "name": "stderr",
     "output_type": "stream",
     "text": [
      "[Parallel(n_jobs=1)]: Done  17 tasks      | elapsed:    1.7s\n"
     ]
    },
    {
     "name": "stdout",
     "output_type": "stream",
     "text": [
      "... filtering target\n",
      "Setting up band-pass filter from 1 - 10 Hz\n",
      "\n",
      "FIR filter parameters\n",
      "---------------------\n",
      "Designing a two-pass forward and reverse, zero-phase, non-causal bandpass filter:\n",
      "- Windowed frequency-domain design (firwin2) method\n",
      "- Hann window\n",
      "- Lower passband edge: 1.00\n",
      "- Lower transition bandwidth: 0.50 Hz (-12 dB cutoff frequency: 0.75 Hz)\n",
      "- Upper passband edge: 10.00 Hz\n",
      "- Upper transition bandwidth: 0.50 Hz (-12 dB cutoff frequency: 10.25 Hz)\n",
      "- Filter length: 50000 samples (10.000 s)\n",
      "\n",
      "Setting 176655 of 1850200 (9.55%) samples to NaN, retaining 1673545 (90.45%) samples.\n",
      "Effective window size : 0.410 (s)\n",
      "EOG components: [45] | Muscle components: [0, 1, 2, 3, 4, 5, 6, 7, 8, 9, 10, 11, 12, 14, 15, 16, 17, 18, 19, 20, 22, 24, 28, 30, 32, 35, 36, 38, 40, 44, 45, 46, 47, 49, 50, 51]\n",
      "Applying ICA to Raw instance\n",
      "    Transforming to ICA space (52 components)\n",
      "    Zeroing out 36 ICA components\n",
      "    Projecting back using 58 PCA components\n",
      "EEG channel type selected for re-referencing\n",
      "Applying average reference.\n",
      "Applying a custom ('EEG',) reference.\n",
      "Filtering raw data in 1 contiguous segment\n",
      "Setting up high-pass filter at 1 Hz\n",
      "\n",
      "FIR filter parameters\n",
      "---------------------\n",
      "Designing a one-pass, zero-phase, non-causal highpass filter:\n",
      "- Windowed time-domain design (firwin) method\n",
      "- Hamming window with 0.0194 passband ripple and 53 dB stopband attenuation\n",
      "- Lower passband edge: 1.00\n",
      "- Lower transition bandwidth: 1.00 Hz (-6 dB cutoff frequency: 0.50 Hz)\n",
      "- Filter length: 16501 samples (3.300 s)\n",
      "\n"
     ]
    },
    {
     "name": "stderr",
     "output_type": "stream",
     "text": [
      "[Parallel(n_jobs=1)]: Done  17 tasks      | elapsed:    0.9s\n"
     ]
    },
    {
     "name": "stdout",
     "output_type": "stream",
     "text": [
      "Interpolating bad channels\n",
      "    Automatic origin fit: head of radius 95.0 mm\n",
      "Computing interpolation matrix from 60 sensor positions\n",
      "Interpolating 4 sensors\n",
      "Using EOG channels: Fp1, Fp2\n",
      "Omitting 216145 of 1979300 (10.92%) samples, retaining 1763155 (89.08%) samples.\n",
      "Omitting 216145 of 1979300 (10.92%) samples, retaining 1763155 (89.08%) samples.\n",
      "Omitting 216145 of 1979300 (10.92%) samples, retaining 1763155 (89.08%) samples.\n",
      "... filtering ICA sources\n",
      "Setting up band-pass filter from 1 - 10 Hz\n",
      "\n",
      "FIR filter parameters\n",
      "---------------------\n",
      "Designing a two-pass forward and reverse, zero-phase, non-causal bandpass filter:\n",
      "- Windowed frequency-domain design (firwin2) method\n",
      "- Hann window\n",
      "- Lower passband edge: 1.00\n",
      "- Lower transition bandwidth: 0.50 Hz (-12 dB cutoff frequency: 0.75 Hz)\n",
      "- Upper passband edge: 10.00 Hz\n",
      "- Upper transition bandwidth: 0.50 Hz (-12 dB cutoff frequency: 10.25 Hz)\n",
      "- Filter length: 50000 samples (10.000 s)\n",
      "\n",
      "... filtering target\n",
      "Setting up band-pass filter from 1 - 10 Hz\n",
      "\n",
      "FIR filter parameters\n",
      "---------------------\n",
      "Designing a two-pass forward and reverse, zero-phase, non-causal bandpass filter:\n",
      "- Windowed frequency-domain design (firwin2) method\n",
      "- Hann window\n",
      "- Lower passband edge: 1.00\n",
      "- Lower transition bandwidth: 0.50 Hz (-12 dB cutoff frequency: 0.75 Hz)\n",
      "- Upper passband edge: 10.00 Hz\n",
      "- Upper transition bandwidth: 0.50 Hz (-12 dB cutoff frequency: 10.25 Hz)\n",
      "- Filter length: 50000 samples (10.000 s)\n",
      "\n",
      "Omitting 216145 of 1979300 (10.92%) samples, retaining 1763155 (89.08%) samples.\n",
      "... filtering ICA sources\n",
      "Setting up band-pass filter from 1 - 10 Hz\n",
      "\n",
      "FIR filter parameters\n",
      "---------------------\n",
      "Designing a two-pass forward and reverse, zero-phase, non-causal bandpass filter:\n",
      "- Windowed frequency-domain design (firwin2) method\n",
      "- Hann window\n",
      "- Lower passband edge: 1.00\n",
      "- Lower transition bandwidth: 0.50 Hz (-12 dB cutoff frequency: 0.75 Hz)\n",
      "- Upper passband edge: 10.00 Hz\n",
      "- Upper transition bandwidth: 0.50 Hz (-12 dB cutoff frequency: 10.25 Hz)\n",
      "- Filter length: 50000 samples (10.000 s)\n",
      "\n",
      "... filtering target\n",
      "Setting up band-pass filter from 1 - 10 Hz\n",
      "\n",
      "FIR filter parameters\n",
      "---------------------\n",
      "Designing a two-pass forward and reverse, zero-phase, non-causal bandpass filter:\n",
      "- Windowed frequency-domain design (firwin2) method\n",
      "- Hann window\n",
      "- Lower passband edge: 1.00\n",
      "- Lower transition bandwidth: 0.50 Hz (-12 dB cutoff frequency: 0.75 Hz)\n",
      "- Upper passband edge: 10.00 Hz\n",
      "- Upper transition bandwidth: 0.50 Hz (-12 dB cutoff frequency: 10.25 Hz)\n",
      "- Filter length: 50000 samples (10.000 s)\n",
      "\n",
      "Setting 216145 of 1979300 (10.92%) samples to NaN, retaining 1763155 (89.08%) samples.\n",
      "Effective window size : 0.410 (s)\n",
      "EOG components: [] | Muscle components: []\n",
      "Applying ICA to Raw instance\n",
      "    Transforming to ICA space (16 components)\n",
      "    Zeroing out 0 ICA components\n",
      "    Projecting back using 55 PCA components\n",
      "EEG channel type selected for re-referencing\n",
      "Applying average reference.\n",
      "Applying a custom ('EEG',) reference.\n",
      "Filtering raw data in 1 contiguous segment\n",
      "Setting up high-pass filter at 1 Hz\n",
      "\n",
      "FIR filter parameters\n",
      "---------------------\n",
      "Designing a one-pass, zero-phase, non-causal highpass filter:\n",
      "- Windowed time-domain design (firwin) method\n",
      "- Hamming window with 0.0194 passband ripple and 53 dB stopband attenuation\n",
      "- Lower passband edge: 1.00\n",
      "- Lower transition bandwidth: 1.00 Hz (-6 dB cutoff frequency: 0.50 Hz)\n",
      "- Filter length: 16501 samples (3.300 s)\n",
      "\n"
     ]
    },
    {
     "name": "stderr",
     "output_type": "stream",
     "text": [
      "[Parallel(n_jobs=1)]: Done  17 tasks      | elapsed:    0.9s\n"
     ]
    }
   ],
   "source": [
    "# Take first N principle components, filter and process.\n",
    "# subj_preproc_data[\"S001\"]\n",
    "# subj_preproc_data[\"S002\"]\n",
    "# subj_preproc_data[\"S003\"]\n",
    "for subj_id, data in subj_data.items():\n",
    "    s = subj_data[subj_id].preproc.copy()\n",
    "    ica = subj_data[subj_id].ica.copy()\n",
    "    eog_artifact_exclude_idx, eog_artifact_scores = ica.find_bads_eog(\n",
    "        s, [\"Fp1\", \"Fp2\"], start=2.0, measure=\"zscore\", threshold=3.0, verbose=True\n",
    "    )\n",
    "    muscle_artifact_exclude_idx, muscle_artifact_scores = ica.find_bads_muscle(\n",
    "        s, threshold=0.65, l_freq=7, h_freq=45, start=2.0, verbose=True\n",
    "    )\n",
    "    print(\n",
    "        f\"EOG components: {eog_artifact_exclude_idx} | Muscle components: {muscle_artifact_exclude_idx}\"\n",
    "    )\n",
    "    ica.exclude = list(\n",
    "        set(ica.exclude)\n",
    "        | set(eog_artifact_exclude_idx)\n",
    "        | set(muscle_artifact_exclude_idx)\n",
    "    )\n",
    "\n",
    "    s = ica.apply(\n",
    "        s, n_pca_components=subj_data[subj_id].rank, on_baseline=\"raise\", verbose=True\n",
    "    )\n",
    "\n",
    "    # Set a reference channel\n",
    "    s.set_eeg_reference(\"average\")\n",
    "    # High-pass filter to remove DC offset.\n",
    "    s.filter(l_freq=1.0, h_freq=None)\n",
    "\n",
    "    if len(s.info[\"bads\"]) > 0:\n",
    "        s.interpolate_bads(reset_bads=True, mode=\"accurate\")\n",
    "\n",
    "    subj_data[subj_id].preproc = s"
   ]
  },
  {
   "cell_type": "markdown",
   "metadata": {},
   "source": [
    "### Resampling & Epoching"
   ]
  },
  {
   "cell_type": "code",
   "execution_count": 23,
   "metadata": {},
   "outputs": [
    {
     "name": "stdout",
     "output_type": "stream",
     "text": [
      "Used Annotations descriptions: ['pushbutton']\n",
      "Not setting metadata\n",
      "12 matching events found\n",
      "Not setting metadata\n",
      "12 matching events found\n",
      "Setting baseline interval to [-10.0, -4.0] s\n",
      "Applying baseline correction (mode: mean)\n",
      "0 projection items activated\n",
      "Using data from preloaded Raw for 12 events and 50002 original time points ...\n",
      "0 bad epochs dropped\n",
      "Used Annotations descriptions: ['pushbutton']\n",
      "Not setting metadata\n",
      "12 matching events found\n",
      "Setting baseline interval to [-10.0, -4.0] s\n",
      "Applying baseline correction (mode: mean)\n",
      "0 projection items activated\n",
      "Using data from preloaded Raw for 12 events and 50002 original time points ...\n",
      "1 bad epochs dropped\n",
      "Used Annotations descriptions: ['pushbutton']\n",
      "Not setting metadata\n",
      "12 matching events found\n",
      "Setting baseline interval to [-10.0, -4.0] s\n",
      "Applying baseline correction (mode: mean)\n",
      "0 projection items activated\n",
      "Using data from preloaded Raw for 12 events and 50002 original time points ...\n",
      "1 bad epochs dropped\n"
     ]
    }
   ],
   "source": [
    "for subj_id, data in subj_data.items():\n",
    "    s = data.preproc.copy()\n",
    "    pushbutton_events, pushbutton_event_ids = mne.events_from_annotations(\n",
    "        s, regexp=\"pushbutton\"\n",
    "    )\n",
    "    pushb_epochs = mne.Epochs(\n",
    "        s,\n",
    "        pushbutton_events,\n",
    "        pushbutton_event_ids,\n",
    "        tmin=-10.0,\n",
    "        tmax=1 / 5000,\n",
    "        baseline=(None, -4.0),\n",
    "        preload=True,\n",
    "    )\n",
    "    subj_data[subj_id].pushbutton_epochs = pushb_epochs"
   ]
  },
  {
   "cell_type": "code",
   "execution_count": 24,
   "metadata": {},
   "outputs": [
    {
     "name": "stdout",
     "output_type": "stream",
     "text": [
      "5000 256.0 20 250.0 83.33333333333333\n",
      "Filtering raw data in 1 contiguous segment\n",
      "Setting up low-pass filter at 83 Hz\n",
      "\n",
      "FIR filter parameters\n",
      "---------------------\n",
      "Designing a one-pass, zero-phase, non-causal lowpass filter:\n",
      "- Windowed time-domain design (firwin) method\n",
      "- Hamming window with 0.0194 passband ripple and 53 dB stopband attenuation\n",
      "- Upper passband edge: 83.33 Hz\n",
      "- Upper transition bandwidth: 20.83 Hz (-6 dB cutoff frequency: 93.75 Hz)\n",
      "- Filter length: 793 samples (0.159 s)\n",
      "\n"
     ]
    },
    {
     "name": "stderr",
     "output_type": "stream",
     "text": [
      "[Parallel(n_jobs=1)]: Done  17 tasks      | elapsed:    1.1s\n"
     ]
    },
    {
     "name": "stdout",
     "output_type": "stream",
     "text": [
      "Used Annotations descriptions: ['pushbutton']\n",
      "Not setting metadata\n",
      "12 matching events found\n",
      "Setting baseline interval to [-10.0, -5.0] s\n",
      "Applying baseline correction (mode: mean)\n",
      "0 projection items activated\n",
      "Using data from preloaded Raw for 12 events and 50001 original time points (prior to decimation) ...\n",
      "0 bad epochs dropped\n",
      "Filtering raw data in 1 contiguous segment\n",
      "Setting up low-pass filter at 83 Hz\n",
      "\n",
      "FIR filter parameters\n",
      "---------------------\n",
      "Designing a one-pass, zero-phase, non-causal lowpass filter:\n",
      "- Windowed time-domain design (firwin) method\n",
      "- Hamming window with 0.0194 passband ripple and 53 dB stopband attenuation\n",
      "- Upper passband edge: 83.33 Hz\n",
      "- Upper transition bandwidth: 20.83 Hz (-6 dB cutoff frequency: 93.75 Hz)\n",
      "- Filter length: 793 samples (0.159 s)\n",
      "\n"
     ]
    },
    {
     "name": "stderr",
     "output_type": "stream",
     "text": [
      "[Parallel(n_jobs=1)]: Done  17 tasks      | elapsed:    0.7s\n"
     ]
    },
    {
     "name": "stdout",
     "output_type": "stream",
     "text": [
      "Used Annotations descriptions: ['pushbutton']\n",
      "Not setting metadata\n",
      "12 matching events found\n",
      "Setting baseline interval to [-10.0, -5.0] s\n",
      "Applying baseline correction (mode: mean)\n",
      "0 projection items activated\n",
      "Using data from preloaded Raw for 12 events and 50001 original time points (prior to decimation) ...\n",
      "1 bad epochs dropped\n",
      "Filtering raw data in 1 contiguous segment\n",
      "Setting up low-pass filter at 83 Hz\n",
      "\n",
      "FIR filter parameters\n",
      "---------------------\n",
      "Designing a one-pass, zero-phase, non-causal lowpass filter:\n",
      "- Windowed time-domain design (firwin) method\n",
      "- Hamming window with 0.0194 passband ripple and 53 dB stopband attenuation\n",
      "- Upper passband edge: 83.33 Hz\n",
      "- Upper transition bandwidth: 20.83 Hz (-6 dB cutoff frequency: 93.75 Hz)\n",
      "- Filter length: 793 samples (0.159 s)\n",
      "\n"
     ]
    },
    {
     "name": "stderr",
     "output_type": "stream",
     "text": [
      "[Parallel(n_jobs=1)]: Done  17 tasks      | elapsed:    0.7s\n"
     ]
    },
    {
     "name": "stdout",
     "output_type": "stream",
     "text": [
      "Used Annotations descriptions: ['pushbutton']\n",
      "Not setting metadata\n",
      "12 matching events found\n",
      "Not setting metadata\n",
      "12 matching events found\n",
      "Setting baseline interval to [-10.0, -5.0] s\n",
      "Applying baseline correction (mode: mean)\n",
      "0 projection items activated\n",
      "Using data from preloaded Raw for 12 events and 50001 original time points (prior to decimation) ...\n",
      "1 bad epochs dropped\n"
     ]
    }
   ],
   "source": [
    "# Resample to a desired frequency.\n",
    "# current_sample_freq = subj_preproc_data.S001.reduced_eeg.info[\"sfreq\"]\n",
    "current_sample_freq = 5000\n",
    "target_sample_freq = 250.0\n",
    "decim = np.round(current_sample_freq / target_sample_freq).astype(int)\n",
    "obtained_sample_freq = current_sample_freq / decim\n",
    "lowpass_freq = obtained_sample_freq / 3.0\n",
    "print(\n",
    "    current_sample_freq, target_sample_freq, decim, obtained_sample_freq, lowpass_freq\n",
    ")\n",
    "\n",
    "for subj_id, data in subj_data.items():\n",
    "    s = data.preproc.copy()\n",
    "    # Low-pass the cleaned data to 1/3 the target frequency. This rule-of-thumb is\n",
    "    # specifically selected for the default parameters in `Raw.filter()`.\n",
    "    s = s.filter(l_freq=None, h_freq=lowpass_freq)\n",
    "\n",
    "    # Re-create the epoching steps above\n",
    "    pushbutton_events, pushbutton_event_ids = mne.events_from_annotations(\n",
    "        s, regexp=\"pushbutton\"\n",
    "    )\n",
    "    pushb_epochs_decim = mne.Epochs(\n",
    "        s,\n",
    "        pushbutton_events,\n",
    "        pushbutton_event_ids,\n",
    "        decim=decim,\n",
    "        tmin=-10.0,\n",
    "        tmax=0.0,\n",
    "        baseline=(None, -5.0),\n",
    "        preload=True,\n",
    "    )\n",
    "\n",
    "    subj_data[subj_id].resampled_pushbutton_epochs = pushb_epochs_decim"
   ]
  },
  {
   "cell_type": "markdown",
   "metadata": {},
   "source": [
    "#### Windowing & Labelling"
   ]
  },
  {
   "cell_type": "code",
   "execution_count": 25,
   "metadata": {},
   "outputs": [],
   "source": [
    "# fmt: off\n",
    "CHANNEL_ORDER = (\n",
    "    'Fp1', 'Fz', 'F3', 'F7', 'FT9', 'FC5', 'FC1', 'C3',\n",
    "    'T7', 'TP9', 'CP5', 'CP1', 'Pz', 'P3', 'P7', 'O1',\n",
    "    'Oz', 'O2', 'P4', 'P8', 'TP10', 'CP6', 'CP2', 'Cz',\n",
    "    'C4', 'T8', 'FT10', 'FC6', 'FC2', 'F4', 'F8', 'Fp2',\n",
    "    'AF7', 'AF3', 'AFz', 'F1', 'F5', 'FT7', 'FC3', 'C1',\n",
    "    'C5', 'TP7', 'CP3', 'P1', 'P5', 'PO7', 'PO3', 'POz',\n",
    "    'PO4', 'PO8', 'P6', 'P2', 'CPz', 'CP4', 'TP8', 'C6',\n",
    "    'C2', 'FC4', 'FT8', 'F6', 'AF8', 'AF4', 'F2', 'Iz',\n",
    ")\n",
    "# fmt: on"
   ]
  },
  {
   "cell_type": "code",
   "execution_count": 26,
   "metadata": {},
   "outputs": [],
   "source": [
    "# WINDOW_SPAN_TIME = 1.5 #seconds\n",
    "# window_span_timepoints = math.ceil(WINDOW_SPAN_TIME * target_sample_freq)\n",
    "# TARGET_BACKOFF_TIMEPOINTS = 1\n",
    "\n",
    "LOAD_CACHE_DATASET = False\n",
    "SAVE_CACHE_DATASET = True\n",
    "\n",
    "input_windows = Box(default_box=True)"
   ]
  },
  {
   "cell_type": "code",
   "execution_count": 27,
   "metadata": {},
   "outputs": [
    {
     "name": "stdout",
     "output_type": "stream",
     "text": [
      "Applying baseline correction (mode: mean)\n",
      "Applying baseline correction (mode: mean)\n",
      "Applying baseline correction (mode: mean)\n"
     ]
    }
   ],
   "source": [
    "if not LOAD_CACHE_DATASET:\n",
    "\n",
    "    input_windows.times = None\n",
    "\n",
    "    for subj_id, data in subj_data.items():\n",
    "        epochs = subj_data[subj_id].resampled_pushbutton_epochs.copy().load_data()\n",
    "        # Apply baseline correction.\n",
    "        epochs = epochs.apply_baseline()\n",
    "        # Channels should be in the correct order, but enforce a standard order just in\n",
    "        # case.\n",
    "        epochs = epochs.reorder_channels(list(CHANNEL_ORDER))\n",
    "\n",
    "        epoch_data = epochs.get_data(picks=\"eeg\", units=\"uV\").copy()\n",
    "\n",
    "        input_windows[subj_id] = epoch_data\n",
    "\n",
    "        if input_windows.times is None:\n",
    "            input_windows.times = epochs.times.copy()\n",
    "\n",
    "    if SAVE_CACHE_DATASET:\n",
    "        np.savez_compressed(\n",
    "            \"preproc_eeg_pushbutton_epochs.npz\", **input_windows.to_dict()\n",
    "        )\n",
    "else:\n",
    "    input_windows = Box(**np.load(\"preproc_eeg_pushbutton_epochs.npz\"))"
   ]
  },
  {
   "cell_type": "code",
   "execution_count": 34,
   "metadata": {},
   "outputs": [
    {
     "data": {
      "text/plain": [
       "20.0"
      ]
     },
     "execution_count": 34,
     "metadata": {},
     "output_type": "execute_result"
    }
   ],
   "source": [
    "5000 / 250"
   ]
  },
  {
   "cell_type": "code",
   "execution_count": null,
   "metadata": {},
   "outputs": [],
   "source": [
    "plt.clf()\n",
    "plt.plot(input_windows.times, input_windows.S003[0].T, lw=0.3)\n",
    "plt.show()"
   ]
  },
  {
   "cell_type": "markdown",
   "metadata": {},
   "source": [
    "---"
   ]
  },
  {
   "cell_type": "markdown",
   "metadata": {},
   "source": [
    "# Sandbox"
   ]
  },
  {
   "cell_type": "code",
   "execution_count": null,
   "metadata": {},
   "outputs": [],
   "source": []
  },
  {
   "cell_type": "code",
   "execution_count": null,
   "metadata": {},
   "outputs": [],
   "source": [
    "# Testing sandbox\n",
    "s = subj_data.S002.raw.load_data(verbose=True).copy()"
   ]
  },
  {
   "cell_type": "code",
   "execution_count": null,
   "metadata": {},
   "outputs": [],
   "source": [
    "# EOG artifact correction\n",
    "s1 = s.copy()\n",
    "\n",
    "breaks = mne.preprocessing.annotate_break(\n",
    "    s1, min_break_duration=13, t_start_after_previous=3, t_stop_before_next=3\n",
    ")\n",
    "s1.annotations.append(\n",
    "    onset=breaks.onset, duration=breaks.duration, description=breaks.description\n",
    ")\n",
    "\n",
    "eog_epochs = mne.preprocessing.create_eog_epochs(\n",
    "    s1, ch_name=[\"Fp1\", \"Fp2\"], l_freq=1, h_freq=40\n",
    ")\n",
    "eog_evoked = eog_epochs.average().apply_baseline(baseline=(None, -0.2))\n",
    "\n",
    "# Visualization of average of eog events\n",
    "eog_evoked.plot_joint(\n",
    "    times=[-0.1, -0.01, 0.01, 0.1],\n",
    ");"
   ]
  },
  {
   "cell_type": "code",
   "execution_count": null,
   "metadata": {},
   "outputs": [],
   "source": [
    "break_events, break_event_ids = mne.events_from_annotations(s1, regexp=\"BAD_break\")\n",
    "break_epochs = mne.Epochs(\n",
    "    s1,\n",
    "    break_events,\n",
    "    break_event_ids[\"BAD_break\"],\n",
    "    reject_by_annotation=False,\n",
    "    preload=True,\n",
    ")"
   ]
  },
  {
   "cell_type": "code",
   "execution_count": null,
   "metadata": {},
   "outputs": [],
   "source": [
    "breaks.duration"
   ]
  },
  {
   "cell_type": "code",
   "execution_count": null,
   "metadata": {},
   "outputs": [],
   "source": [
    "# Fit ICA to data\n",
    "# High-pass filter to remove potential slow drift.\n",
    "s_filter = s.copy().filter(l_freq=1.0, h_freq=None)\n",
    "\n",
    "ica = mne.preprocessing.ICA(n_components=15, method=\"picard\", max_iter=\"auto\")\n",
    "ica.fit(s_filter)\n",
    "ica"
   ]
  },
  {
   "cell_type": "code",
   "execution_count": null,
   "metadata": {},
   "outputs": [],
   "source": [
    "ica.plot_sources(s, show_scrollbars=False)\n",
    "ica.plot_components();\n",
    "# ica.plot_overlay(s, exclude=[0, 1], picks='eeg');\n",
    "# ica.plot_properties(s, picks=[0, 1, 2]);"
   ]
  },
  {
   "cell_type": "code",
   "execution_count": null,
   "metadata": {},
   "outputs": [],
   "source": [
    "# Find components on a second subject.\n",
    "# Fit ICA to data\n",
    "# High-pass filter to remove potential slow drift.\n",
    "s3_filter = subj_data.S003.raw.copy().filter(l_freq=1.0, h_freq=None)\n",
    "\n",
    "ica_s3 = mne.preprocessing.ICA(n_components=15, method=\"picard\", max_iter=\"auto\")\n",
    "ica_s3.fit(s3_filter)\n",
    "ica_s3.plot_components();"
   ]
  },
  {
   "cell_type": "code",
   "execution_count": null,
   "metadata": {},
   "outputs": [],
   "source": [
    "eog_indices, eog_scores = ica.find_bads_eog(\n",
    "    s, [\"Fp1\", \"Fp2\"], threshold=0.7, measure=\"correlation\", l_freq=1.0, h_freq=100\n",
    ")\n",
    "print(eog_indices)\n",
    "print(eog_scores)\n",
    "# ica.exclude = eog_indices\n",
    "ica.exclude = [0, 1]\n",
    "\n",
    "ica.plot_scores(eog_scores)\n",
    "ica.plot_properties(s, picks=ica.exclude)\n",
    "ica.plot_sources(eog_evoked);"
   ]
  },
  {
   "cell_type": "code",
   "execution_count": null,
   "metadata": {},
   "outputs": [],
   "source": [
    "ica.find_bads_ecg(s, method=\"correlation\", threshold=\"auto\")"
   ]
  },
  {
   "cell_type": "markdown",
   "metadata": {},
   "source": [
    "---"
   ]
  },
  {
   "cell_type": "markdown",
   "metadata": {},
   "source": [
    "**Exploration**"
   ]
  },
  {
   "cell_type": "code",
   "execution_count": null,
   "metadata": {},
   "outputs": [],
   "source": []
  },
  {
   "cell_type": "code",
   "execution_count": null,
   "metadata": {},
   "outputs": [],
   "source": [
    "s = subj_data.S002.raw.copy()\n",
    "breaks = mne.preprocessing.annotate_break(\n",
    "    s, min_break_duration=13, t_start_after_previous=3, t_stop_before_next=3\n",
    ")\n",
    "s.annotations.append(\n",
    "    onset=breaks.onset, duration=breaks.duration, description=breaks.description\n",
    ")\n",
    "\n",
    "pushbutton_events, pushbutton_event_ids = mne.events_from_annotations(\n",
    "    s, regexp=\"pushbutton\"\n",
    ")\n",
    "pushb_epochs = mne.Epochs(\n",
    "    s,\n",
    "    pushbutton_events,\n",
    "    pushbutton_event_ids,\n",
    "    tmin=-7.0,\n",
    "    tmax=0.5,\n",
    "    baseline=(None, -4.0),\n",
    "    preload=True,\n",
    ")\n",
    "pushb_evoked = pushb_epochs.apply_baseline().average()\n",
    "\n",
    "# Viz average pushbutton channel amplitudes.\n",
    "pushb_evoked.plot_joint(\n",
    "    times=[-6.0, -3.0, -1.0, -0.5, -0.1, -0.05, -0.01, 0.01],\n",
    ")\n",
    "pushb_evoked.plot(gfp=\"only\", spatial_colors=True);"
   ]
  },
  {
   "cell_type": "code",
   "execution_count": null,
   "metadata": {},
   "outputs": [],
   "source": [
    "pushb_noise_cov = mne.compute_covariance(\n",
    "    pushb_epochs, tmax=0, method=\"shrunk\", rank=None, verbose=\"error\"\n",
    ")\n",
    "# pushb_epochs.plot(events=True)\n",
    "# pushb_epochs.plot(noise_cov=pushb_noise_cov, events=True);\n",
    "pushb_evoked.plot(time_unit=\"s\")\n",
    "pushb_evoked.plot(noise_cov=pushb_noise_cov, time_unit=\"s\");"
   ]
  },
  {
   "cell_type": "code",
   "execution_count": null,
   "metadata": {},
   "outputs": [],
   "source": [
    "# Plot average intensities per epoch for a second subject\n",
    "\n",
    "s3 = subj_data.S003.raw.copy()\n",
    "s3_breaks = mne.preprocessing.annotate_break(\n",
    "    s3, min_break_duration=13, t_start_after_previous=3, t_stop_before_next=3\n",
    ")\n",
    "s3.annotations.append(\n",
    "    onset=s3_breaks.onset,\n",
    "    duration=s3_breaks.duration,\n",
    "    description=s3_breaks.description,\n",
    ")\n",
    "\n",
    "s3_pushbutton_events, s3_pushbutton_event_ids = mne.events_from_annotations(\n",
    "    s3, regexp=\"pushbutton\"\n",
    ")\n",
    "s3_pushb_epochs = mne.Epochs(\n",
    "    s3,\n",
    "    s3_pushbutton_events,\n",
    "    s3_pushbutton_event_ids,\n",
    "    tmin=-7.0,\n",
    "    tmax=0.5,\n",
    "    baseline=(None, -4.0),\n",
    "    preload=True,\n",
    ")\n",
    "s3_pushb_evoked = s3_pushb_epochs.apply_baseline().average()\n",
    "\n",
    "# Viz average pushbutton channel amplitudes.\n",
    "s3_pushb_evoked.plot_joint(\n",
    "    times=[-6.0, -3.0, -1.0, -0.5, -0.1, -0.05, -0.01, 0.01],\n",
    ")\n",
    "s3_pushb_evoked.plot(gfp=\"only\", spatial_colors=True)\n",
    "\n",
    "s3_pushb_noise_cov = mne.compute_covariance(\n",
    "    s3_pushb_epochs, tmax=0, method=\"shrunk\", rank=None, verbose=\"error\"\n",
    ")\n",
    "# pushb_epochs.plot(events=True)\n",
    "# pushb_epochs.plot(noise_cov=pushb_noise_cov, events=True);\n",
    "s3_pushb_evoked.plot(time_unit=\"s\")\n",
    "s3_pushb_evoked.plot(noise_cov=s3_pushb_noise_cov, time_unit=\"s\");"
   ]
  },
  {
   "cell_type": "code",
   "execution_count": null,
   "metadata": {},
   "outputs": [],
   "source": [
    "freqs = np.logspace(*np.log10([1, 50]), num=30)\n",
    "# freqs = np.linspace(1, 10, num=20)\n",
    "n_cycles = freqs / 2.0  # different number of cycle per frequency\n",
    "print(f\"Temporal windows {n_cycles / freqs} for frequencies {freqs}\")\n",
    "power, itc = mne.time_frequency.tfr_morlet(\n",
    "    pushb_epochs,\n",
    "    freqs=freqs,\n",
    "    n_cycles=n_cycles,\n",
    "    use_fft=True,\n",
    "    return_itc=True,\n",
    "    decim=2,\n",
    "    n_jobs=None,\n",
    ")\n",
    "power.plot_joint(\n",
    "    mode=\"mean\",\n",
    "    tmin=-7.0,\n",
    "    tmax=0.05,\n",
    "    baseline=(None, -4.0),\n",
    "    timefreqs=[(-2.99, 10), (-0.1, 9)],\n",
    ");"
   ]
  },
  {
   "cell_type": "code",
   "execution_count": null,
   "metadata": {},
   "outputs": [],
   "source": [
    "# Time-frequency plot on a second subject\n",
    "freqs = np.logspace(*np.log10([1, 100]), num=30)\n",
    "# freqs = np.linspace(1, 10, num=20)\n",
    "n_cycles = freqs / 10  # different number of cycle per frequency\n",
    "print(f\"Temporal windows {n_cycles / freqs} for frequencies {freqs}\")\n",
    "s3_power, s3_itc = mne.time_frequency.tfr_morlet(\n",
    "    s3_pushb_epochs,\n",
    "    freqs=freqs,\n",
    "    n_cycles=n_cycles,\n",
    "    use_fft=True,\n",
    "    return_itc=True,\n",
    "    decim=2,\n",
    "    n_jobs=None,\n",
    ")\n",
    "s3_power.plot_joint(\n",
    "    mode=\"mean\",\n",
    "    tmin=-5.0,\n",
    "    tmax=0.05,\n",
    "    baseline=(None, -4.0),\n",
    "    timefreqs=[(-2.99, 10), (-0.1, 9)],\n",
    ");"
   ]
  },
  {
   "cell_type": "code",
   "execution_count": null,
   "metadata": {},
   "outputs": [],
   "source": [
    "# Viz of breaks\n",
    "break_events, break_event_ids = mne.events_from_annotations(s, regexp=\"BAD_break\")\n",
    "break_epochs = mne.Epochs(\n",
    "    s,\n",
    "    break_events,\n",
    "    break_event_ids[\"BAD_break\"],\n",
    "    tmin=-3.75,\n",
    "    tmax=3.75,\n",
    "    baseline=(None, None),\n",
    "    reject_by_annotation=False,\n",
    "    preload=True,\n",
    ")\n",
    "break_evoked = break_epochs.apply_baseline().average()\n",
    "break_evoked.plot_joint(times=[-3, -2, -1, 0, 1, 2, 3]);\n",
    "\n",
    "#     s,\n",
    "#     pushbutton_events,\n",
    "#     pushbutton_event_ids,\n",
    "#     tmin=-7.0,\n",
    "#     tmax=0.5,\n",
    "#     baseline=(None, -4.0),\n",
    "#     preload=True,\n",
    "# )\n",
    "# pushb_evoked = pushb_epochs.apply_baseline().average()\n",
    "\n",
    "# # Viz average pushbutton channel amplitudes.\n",
    "# pushb_evoked.plot_joint(\n",
    "#     times=[-6.0, -3.0, -1.0, -0.5, -0.1, -0.05, -0.01, 0.01],\n",
    "# );"
   ]
  },
  {
   "cell_type": "code",
   "execution_count": null,
   "metadata": {},
   "outputs": [],
   "source": [
    "pushb_evoked\n",
    "# break_evoked"
   ]
  },
  {
   "cell_type": "markdown",
   "metadata": {},
   "source": [
    "---"
   ]
  },
  {
   "cell_type": "code",
   "execution_count": null,
   "metadata": {},
   "outputs": [],
   "source": []
  }
 ],
 "metadata": {
  "kernelspec": {
   "display_name": "Python 3",
   "language": "python",
   "name": "python3"
  },
  "language_info": {
   "codemirror_mode": {
    "name": "ipython",
    "version": 3
   },
   "file_extension": ".py",
   "mimetype": "text/x-python",
   "name": "python",
   "nbconvert_exporter": "python",
   "pygments_lexer": "ipython3",
   "version": "3.11.4"
  },
  "orig_nbformat": 4
 },
 "nbformat": 4,
 "nbformat_minor": 2
}
