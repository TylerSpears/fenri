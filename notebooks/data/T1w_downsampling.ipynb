{
 "cells": [
  {
   "cell_type": "markdown",
   "id": "6117303e-a2d3-4f63-9c10-4b58a11a1298",
   "metadata": {},
   "source": [
    "# PITN - T1w Image Downsampling and Processing\n",
    "\n",
    "Code by:\n",
    "\n",
    "Tyler Spears - tas6hh@virginia.edu\n",
    "\n",
    "Dr. Tom Fletcher"
   ]
  },
  {
   "cell_type": "markdown",
   "id": "25989802-8d29-4f34-b180-9a4cc37ef430",
   "metadata": {
    "tags": []
   },
   "source": [
    "## Imports & Environment Setup"
   ]
  },
  {
   "cell_type": "code",
   "execution_count": null,
   "id": "4e020409-2d72-4a8e-8ef7-12b02d421eb2",
   "metadata": {
    "tags": []
   },
   "outputs": [],
   "source": [
    "# Automatically re-import project-specific modules.\n",
    "%load_ext autoreload\n",
    "%autoreload 1\n",
    "\n",
    "# imports\n",
    "import collections\n",
    "import functools\n",
    "import io\n",
    "import math\n",
    "import itertools\n",
    "import os\n",
    "import shutil\n",
    "import pathlib\n",
    "import inspect\n",
    "import random\n",
    "import subprocess\n",
    "import sys\n",
    "import warnings\n",
    "from pathlib import Path\n",
    "import typing\n",
    "\n",
    "import ants\n",
    "import dipy\n",
    "import dipy.core\n",
    "import dipy.reconst\n",
    "import dipy.reconst.dti\n",
    "import dipy.segment.mask\n",
    "import dipy.viz\n",
    "import dipy.viz.regtools\n",
    "import dotenv\n",
    "\n",
    "# visualization libraries\n",
    "%matplotlib inline\n",
    "import matplotlib as mpl\n",
    "import mpl_toolkits\n",
    "import matplotlib.pyplot as plt\n",
    "import seaborn as sns\n",
    "\n",
    "import IPython\n",
    "\n",
    "# Try importing GPUtil for printing GPU specs.\n",
    "# May not be installed if using CPU only.\n",
    "try:\n",
    "    import GPUtil\n",
    "except ImportError:\n",
    "    warnings.warn(\"WARNING: Package GPUtil not found, cannot print GPU specs\")\n",
    "from tabulate import tabulate\n",
    "from IPython.display import display, Markdown\n",
    "import ipyplot\n",
    "\n",
    "# Data management libraries.\n",
    "import nibabel as nib\n",
    "import natsort\n",
    "from natsort import natsorted\n",
    "import box\n",
    "from box import Box\n",
    "import pprint\n",
    "from pprint import pprint as ppr\n",
    "\n",
    "# Computation & ML libraries.\n",
    "import numpy as np\n",
    "import skimage\n",
    "import skimage.filters\n",
    "import torch\n",
    "import torch.nn.functional as F\n",
    "import torchio\n",
    "import monai\n",
    "\n",
    "plt.rcParams.update({\"figure.autolayout\": True})\n",
    "plt.rcParams.update({\"figure.facecolor\": [1.0, 1.0, 1.0, 1.0]})\n",
    "\n",
    "# Set print options for ndarrays/tensors.\n",
    "np.set_printoptions(suppress=True, edgeitems=2, threshold=100, linewidth=88)\n",
    "torch.set_printoptions(\n",
    "    sci_mode=False, edgeitems=2, threshold=100, linewidth=88, profile=\"short\"\n",
    ")"
   ]
  },
  {
   "cell_type": "code",
   "execution_count": null,
   "id": "d0fb9b09-ab42-491c-b962-d0c1c18bf10f",
   "metadata": {
    "tags": []
   },
   "outputs": [],
   "source": [
    "# Update notebook's environment variables with direnv.\n",
    "# This requires the python-dotenv package, and direnv be installed on the system\n",
    "# This will not work on Windows.\n",
    "# NOTE: This is kind of hacky, and not necessarily safe. Be careful...\n",
    "# Libraries needed on the python side:\n",
    "# - os\n",
    "# - subprocess\n",
    "# - io\n",
    "# - dotenv\n",
    "\n",
    "# Form command to be run in direnv's context. This command will print out\n",
    "# all environment variables defined in the subprocess/sub-shell.\n",
    "command = f\"direnv exec {os.getcwd()} /usr/bin/env\"\n",
    "# Run command in a new subprocess.\n",
    "proc = subprocess.Popen(command, stdout=subprocess.PIPE, shell=True, cwd=os.getcwd())\n",
    "# Store and format the subprocess' output.\n",
    "proc_out = proc.communicate()[0].strip().decode(\"utf-8\")\n",
    "# Use python-dotenv to load the environment variables by using the output of\n",
    "# 'direnv exec ...' as a 'dummy' .env file.\n",
    "dotenv.load_dotenv(stream=io.StringIO(proc_out), override=True);"
   ]
  },
  {
   "cell_type": "code",
   "execution_count": null,
   "id": "f6197c55-6da0-410b-94c4-ded1c350b966",
   "metadata": {
    "tags": []
   },
   "outputs": [],
   "source": [
    "# Project-specific scripts\n",
    "# It's easier to import it this way rather than make an entirely new package, due to\n",
    "# conflicts with local packages and anaconda installations.\n",
    "# You made me do this, poor python package management!!\n",
    "if \"PROJECT_ROOT\" in os.environ:\n",
    "    lib_location = str(Path(os.environ[\"PROJECT_ROOT\"]).resolve())\n",
    "else:\n",
    "    lib_location = str(Path(\"../../\").resolve())\n",
    "if lib_location not in sys.path:\n",
    "    sys.path.insert(0, lib_location)\n",
    "import lib as pitn\n",
    "\n",
    "# Include the top-level lib module along with its submodules.\n",
    "%aimport lib\n",
    "# Grab all submodules of lib, not including modules outside of the package.\n",
    "includes = list(\n",
    "    filter(\n",
    "        lambda m: m.startswith(\"lib.\"),\n",
    "        map(lambda x: x[1].__name__, inspect.getmembers(pitn, inspect.ismodule)),\n",
    "    )\n",
    ")\n",
    "# Run aimport magic with constructed includes.\n",
    "ipy = IPython.get_ipython()\n",
    "ipy.run_line_magic(\"aimport\", \", \".join(includes))"
   ]
  },
  {
   "cell_type": "code",
   "execution_count": null,
   "id": "6bccd729-959e-4839-ad5b-c42c9ef0e684",
   "metadata": {
    "tags": []
   },
   "outputs": [],
   "source": [
    "# torch setup\n",
    "# allow for CUDA usage, if available\n",
    "if torch.cuda.is_available():\n",
    "    device = torch.device(\"cuda\")\n",
    "else:\n",
    "    device = torch.device(\"cpu\")\n",
    "# keep device as the cpu\n",
    "# device = torch.device('cpu')\n",
    "print(device)"
   ]
  },
  {
   "cell_type": "markdown",
   "id": "f60e9b05-a035-4127-96b4-018e564f4c40",
   "metadata": {
    "tags": []
   },
   "source": [
    "### Specs Recording"
   ]
  },
  {
   "cell_type": "code",
   "execution_count": null,
   "id": "39f5d3ba-ac7a-40bb-b3ba-35dde4f873c3",
   "metadata": {
    "tags": []
   },
   "outputs": [],
   "source": [
    "%%capture --no-stderr cap\n",
    "# Capture output and save to log. Needs to be at the *very first* line of the cell.\n",
    "# Watermark\n",
    "%load_ext watermark\n",
    "%watermark --author \"Tyler Spears\" --updated --iso8601  --python --machine --iversions --githash\n",
    "if torch.cuda.is_available():\n",
    "\n",
    "    # GPU information\n",
    "    # Taken from\n",
    "    # <https://www.thepythoncode.com/article/get-hardware-system-information-python>.\n",
    "    # If GPUtil is not installed, skip this step.\n",
    "    try:\n",
    "        gpus = GPUtil.getGPUs()\n",
    "        print(\"=\" * 50, \"GPU Specs\", \"=\" * 50)\n",
    "        list_gpus = []\n",
    "        for gpu in gpus:\n",
    "            # get the GPU id\n",
    "            gpu_id = gpu.id\n",
    "            # name of GPU\n",
    "            gpu_name = gpu.name\n",
    "            driver_version = gpu.driver\n",
    "            cuda_version = torch.version.cuda\n",
    "            # get total memory\n",
    "            gpu_total_memory = f\"{gpu.memoryTotal}MB\"\n",
    "            gpu_uuid = gpu.uuid\n",
    "            list_gpus.append(\n",
    "                (\n",
    "                    gpu_id,\n",
    "                    gpu_name,\n",
    "                    driver_version,\n",
    "                    cuda_version,\n",
    "                    gpu_total_memory,\n",
    "                    gpu_uuid,\n",
    "                )\n",
    "            )\n",
    "\n",
    "        print(\n",
    "            tabulate(\n",
    "                list_gpus,\n",
    "                headers=(\n",
    "                    \"id\",\n",
    "                    \"Name\",\n",
    "                    \"Driver Version\",\n",
    "                    \"CUDA Version\",\n",
    "                    \"Total Memory\",\n",
    "                    \"uuid\",\n",
    "                ),\n",
    "            )\n",
    "        )\n",
    "    except NameError:\n",
    "        print(\"CUDA Version: \", torch.version.cuda)\n",
    "\n",
    "else:\n",
    "    print(\"CUDA not in use, falling back to CPU\")"
   ]
  },
  {
   "cell_type": "code",
   "execution_count": null,
   "id": "3dc89914-252c-4e21-a398-ec3a2ecd514e",
   "metadata": {
    "tags": [
     "keep_output"
    ]
   },
   "outputs": [
    {
     "name": "stdout",
     "output_type": "stream",
     "text": [
      "Author: Tyler Spears\n",
      "\n",
      "Last updated: 2021-10-06T16:48:16.146694+00:00\n",
      "\n",
      "Python implementation: CPython\n",
      "Python version       : 3.8.8\n",
      "IPython version      : 7.23.1\n",
      "\n",
      "Compiler    : GCC 7.3.0\n",
      "OS          : Linux\n",
      "Release     : 5.4.0-88-generic\n",
      "Machine     : x86_64\n",
      "Processor   : x86_64\n",
      "CPU cores   : 8\n",
      "Architecture: 64bit\n",
      "\n",
      "Git hash: 5123101df9112c32921025ab162ce3c3ee751aa1\n",
      "\n",
      "matplotlib: 3.4.1\n",
      "monai     : 0.7.dev2138\n",
      "numpy     : 1.20.2\n",
      "torch     : 1.9.0\n",
      "ipywidgets: 7.6.3\n",
      "natsort   : 7.1.1\n",
      "addict    : 2.4.0\n",
      "box       : 5.4.1\n",
      "dipy      : 1.4.1\n",
      "nibabel   : 3.2.1\n",
      "json      : 2.0.9\n",
      "GPUtil    : 1.4.0\n",
      "sys       : 3.8.8 (default, Feb 24 2021, 21:46:12) \n",
      "[GCC 7.3.0]\n",
      "pandas    : 1.2.3\n",
      "IPython   : 7.23.1\n",
      "ants      : 0.2.7\n",
      "torchio   : 0.18.37\n",
      "seaborn   : 0.11.1\n",
      "\n",
      "================================================== GPU Specs ==================================================\n",
      "  id  Name       Driver Version      CUDA Version  Total Memory    uuid\n",
      "----  ---------  ----------------  --------------  --------------  ----------------------------------------\n",
      "   0  TITAN RTX  460.91.03                   11.1  24217.0MB       GPU-586d2016-71ef-ebb3-437b-6721a22191ec\n",
      "\n"
     ]
    }
   ],
   "source": [
    "# cap is defined in an ipython magic command\n",
    "print(cap)"
   ]
  },
  {
   "cell_type": "markdown",
   "id": "e1bf766e-1acb-48f7-9723-44eea77a0e65",
   "metadata": {
    "tags": []
   },
   "source": [
    "### Data Variables & Definitions Setup"
   ]
  },
  {
   "cell_type": "code",
   "execution_count": null,
   "id": "3c98dc60-9f3d-4a0e-b44c-fa20420c7264",
   "metadata": {
    "tags": []
   },
   "outputs": [],
   "source": [
    "# Set up directories\n",
    "data_dir = pathlib.Path(os.environ[\"DATA_DIR\"])\n",
    "processed_data_dir = pathlib.Path(os.environ[\"WRITE_DATA_DIR\"])\n",
    "hcp_source_data_dir = data_dir / \"hcp\"\n",
    "clinic_source_data_dir = processed_data_dir / \"oasis3/derivatives/freesurfer\"\n",
    "assert hcp_source_data_dir.exists() and clinic_source_data_dir.exists()\n",
    "\n",
    "hcp_processed_data_dir = processed_data_dir / \"hcp/derivatives/mean-downsample\"\n",
    "clinic_processed_data_dir = processed_data_dir / \"oasis3/derivatives/mean-downsample\"\n",
    "assert hcp_processed_data_dir.exists() and clinic_processed_data_dir.exists()"
   ]
  },
  {
   "cell_type": "code",
   "execution_count": null,
   "id": "4f603f2d-f30c-4234-aa3e-ec360f3278d5",
   "metadata": {
    "tags": []
   },
   "outputs": [],
   "source": [
    "hcp_spacing = 0.7\n",
    "clinic_spacing = 1.0\n",
    "downscale_factor = clinic_spacing / hcp_spacing\n",
    "\n",
    "# Set the output directory based on the target voxel size.\n",
    "hcp_processed_data_dir /= f\"scale-{clinic_spacing:.2f}mm\"\n",
    "clinic_processed_data_dir /= \"scale-orig\"\n",
    "assert hcp_processed_data_dir.exists() and clinic_processed_data_dir.exists()"
   ]
  },
  {
   "cell_type": "markdown",
   "id": "7c915c12-1d02-46dd-b16b-077ab5b68d11",
   "metadata": {
    "tags": []
   },
   "source": [
    "## Load & Process Data"
   ]
  },
  {
   "cell_type": "markdown",
   "id": "433a3da2-9302-4dcc-8eb9-efaa2a549e26",
   "metadata": {},
   "source": [
    "### HCP Data"
   ]
  },
  {
   "cell_type": "code",
   "execution_count": null,
   "id": "e631c5c1-411d-43ff-aa01-3f4cd2c8f11b",
   "metadata": {
    "tags": []
   },
   "outputs": [],
   "source": [
    "hcp_subj_data: dict = dict()\n",
    "source_file_relative_dir = \"T1w/\"\n",
    "source_filename = \"T1w_acpc_dc_restore_brain.nii.gz\"\n",
    "mask_file_relative_dir = \"T1w/\"\n",
    "mask_filename = \"brainmask_fs.nii.gz\"\n",
    "\n",
    "downscaler = pitn.transforms.FractionalMeanDownsampleTransform(\n",
    "    hcp_spacing, clinic_spacing\n",
    ")\n",
    "\n",
    "for hcp_subj_dir in hcp_source_data_dir.glob(\"[0-9]*\"):\n",
    "    subj_id = hcp_subj_dir.name\n",
    "    print(subj_id)\n",
    "\n",
    "    source_file = (hcp_subj_dir / source_file_relative_dir) / source_filename\n",
    "    mask_file = (hcp_subj_dir / mask_file_relative_dir) / mask_filename\n",
    "\n",
    "    source_img = torchio.ScalarImage(source_file)\n",
    "    mask = torchio.LabelMap(mask_file)\n",
    "\n",
    "    # Mean-downscale image and mask to the target spatial resolution.\n",
    "    #     breakpoint()\n",
    "    downscale_source_img = downscaler(source_img)\n",
    "    downscale_mask = downscaler(mask)\n",
    "\n",
    "    # Construct NIFTI objects from the original file's header information, the new\n",
    "    # downsampled data, and the new downsampled data's affine matrix.\n",
    "    nifti_header = nib.Nifti1Image.from_filename(source_file).header\n",
    "    nifti_source_img = nib.Nifti1Image(\n",
    "        downscale_source_img.data.cpu().numpy(),\n",
    "        downscale_source_img.affine,\n",
    "        header=nifti_header,\n",
    "    )\n",
    "    nifti_mask = nib.Nifti1Image(\n",
    "        downscale_mask.data.cpu().numpy(), downscale_mask.affine, header=nifti_header\n",
    "    )\n",
    "\n",
    "    write_subj_dir = hcp_processed_data_dir / f\"sub-{subj_id}\"\n",
    "    img_dir = write_subj_dir / \"anat\"\n",
    "    img_dir.mkdir(parents=True, exist_ok=True)\n",
    "    nib.save(\n",
    "        nifti_source_img,\n",
    "        img_dir\n",
    "        / f\"sub-{subj_id}_meandownsample-{clinic_spacing:.2f}mm_{source_filename}\",\n",
    "    )\n",
    "\n",
    "    mask_dir = write_subj_dir / \"mask\"\n",
    "    mask_dir.mkdir(parents=True, exist_ok=True)\n",
    "    nib.save(\n",
    "        nifti_mask,\n",
    "        mask_dir\n",
    "        / f\"sub-{subj_id}_meandownsample-{clinic_spacing:.2f}mm_{mask_filename}\",\n",
    "    )\n",
    "\n",
    "    hcp_subj_data[subj_id] = {\"t1\": downscale_source_img, \"mask\": downscale_mask}\n",
    "#     f1 = dipy.viz.regtools.plot_slices(mask.data[0].cpu().numpy())\n",
    "#     f1.set_dpi(120)\n",
    "#     f1.show()\n",
    "#     f2 = dipy.viz.regtools.plot_slices(downscale_source_img.data[0].cpu().numpy())\n",
    "#     f2.set_dpi(120)\n",
    "#     f2.show()"
   ]
  },
  {
   "cell_type": "markdown",
   "id": "550d4ede-40b5-4de2-bd85-e5336a7066b7",
   "metadata": {},
   "source": [
    "---"
   ]
  },
  {
   "cell_type": "markdown",
   "id": "cf69f823-19d6-47fc-bd79-532202dd294a",
   "metadata": {},
   "source": [
    "### Clinical Data"
   ]
  },
  {
   "cell_type": "markdown",
   "id": "ddbe9950-64cb-451d-b0f2-80d4064e29be",
   "metadata": {},
   "source": [
    "#### Generate Mask Images from Freesurfer T1w Output"
   ]
  },
  {
   "cell_type": "code",
   "execution_count": null,
   "id": "f2c4dc7d-8f49-453b-9e26-7dc33938727f",
   "metadata": {
    "tags": []
   },
   "outputs": [],
   "source": [
    "clinic_subj_data: dict = dict()\n",
    "source_file_relative_dir = \"mri/\"\n",
    "source_filename = \"brain.finalsurfs.mgz\"\n",
    "\n",
    "for clinic_subj_dir in clinic_source_data_dir.glob(\"OAS[0-9]*\"):\n",
    "    subj_id = clinic_subj_dir.name\n",
    "    print(subj_id)\n",
    "\n",
    "    source_file = (clinic_subj_dir / source_file_relative_dir) / source_filename\n",
    "\n",
    "    source_img = nib.load(source_file)\n",
    "    source_img = nib.Nifti1Image.from_image(source_img)\n",
    "\n",
    "    mask = nib.load(source_file)\n",
    "    mask = nib.Nifti1Image.from_image(mask)\n",
    "    mask_data = mask.get_fdata()\n",
    "    thresh = 1e-6\n",
    "    mask_data = mask_data >= thresh\n",
    "    volume_thresh = np.round(4 / 3 * (np.pi * 4) ** 3).astype(int)\n",
    "    mask_data = skimage.morphology.remove_small_holes(mask_data, volume_thresh)\n",
    "    mask_data = skimage.morphology.binary_opening(\n",
    "        mask_data, skimage.morphology.ball(5, dtype=bool)\n",
    "    )\n",
    "    mask_data = skimage.morphology.remove_small_objects(mask_data)\n",
    "\n",
    "    mask = nib.Nifti1Image(mask_data.astype(np.uint8), affine=None, header=mask.header)\n",
    "\n",
    "    write_subj_dir = clinic_processed_data_dir / f\"sub-{subj_id}\"\n",
    "    img_dir = write_subj_dir / \"anat\"\n",
    "    img_dir.mkdir(parents=True, exist_ok=True)\n",
    "    nib.save(\n",
    "        source_img,\n",
    "        img_dir / f\"sub-{subj_id}_{source_file.stem}_T1w.nii.gz\",\n",
    "    )\n",
    "\n",
    "    mask_dir = write_subj_dir / \"mask\"\n",
    "    mask_dir.mkdir(parents=True, exist_ok=True)\n",
    "    nib.save(\n",
    "        mask,\n",
    "        mask_dir / f\"sub-{subj_id}_mask.nii.gz\",\n",
    "    )"
   ]
  },
  {
   "cell_type": "code",
   "execution_count": null,
   "id": "e6d51f6c-dfb0-4533-8f91-89f166a7ff57",
   "metadata": {
    "tags": []
   },
   "outputs": [],
   "source": [
    "f1 = dipy.viz.regtools.plot_slices(mask_data)\n",
    "f1.set_dpi(150)\n",
    "f1.show()"
   ]
  },
  {
   "cell_type": "code",
   "execution_count": null,
   "id": "ae982dce-c16b-429f-baac-1b92a55e63e9",
   "metadata": {},
   "outputs": [],
   "source": []
  }
 ],
 "metadata": {
  "kernelspec": {
   "display_name": "Python [conda env:miniconda-pitn]",
   "language": "python",
   "name": "conda-env-miniconda-pitn-py"
  },
  "language_info": {
   "codemirror_mode": {
    "name": "ipython",
    "version": 3
   },
   "file_extension": ".py",
   "mimetype": "text/x-python",
   "name": "python",
   "nbconvert_exporter": "python",
   "pygments_lexer": "ipython3",
   "version": "3.8.8"
  }
 },
 "nbformat": 4,
 "nbformat_minor": 5
}
