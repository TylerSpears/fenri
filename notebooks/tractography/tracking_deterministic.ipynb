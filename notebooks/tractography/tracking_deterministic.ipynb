{
 "cells": [
  {
   "cell_type": "markdown",
   "id": "a260a7bf",
   "metadata": {},
   "source": [
    "An introduction to the Deterministic Maximum Direction Getter\n",
    "\n",
    "Deterministic maximum direction getter is the deterministic version of the\n",
    "probabilistic direction getter. It can be used with the same local models\n",
    "and has the same parameters. Deterministic maximum fiber tracking follows\n",
    "the trajectory of the most probable pathway within the tracking constraint\n",
    "(e.g. max angle). In other words, it follows the direction with the highest\n",
    "probability from a distribution, as opposed to the probabilistic direction\n",
    "getter which draws the direction from the distribution. Therefore, the maximum\n",
    "deterministic direction getter is equivalent to the probabilistic direction\n",
    "getter returning always the maximum value of the distribution.\n",
    "\n",
    "Deterministic maximum fiber tracking is an alternative to EuDX deterministic\n",
    "tractography and unlike EuDX does not follow the peaks of the local models but\n",
    "uses the entire orientation distributions.\n",
    "\n",
    "This example is an extension of the :ref:`example_tracking_probabilistic`\n",
    "example. We begin by loading the data, fitting a Constrained Spherical\n",
    "Deconvolution (CSD) reconstruction model for the tractography and fitting\n",
    "the constant solid angle (CSA) reconstruction model to define the tracking\n",
    "mask (stopping criterion)."
   ]
  },
  {
   "cell_type": "code",
   "execution_count": 8,
   "id": "165a6f3f",
   "metadata": {},
   "outputs": [],
   "source": [
    "from dipy.core.gradients import gradient_table\n",
    "from dipy.data import default_sphere, get_fnames\n",
    "from dipy.direction import DeterministicMaximumDirectionGetter\n",
    "from dipy.io.gradients import read_bvals_bvecs\n",
    "from dipy.io.image import load_nifti, load_nifti_data\n",
    "from dipy.io.stateful_tractogram import Space, StatefulTractogram\n",
    "from dipy.io.streamline import save_trk\n",
    "from dipy.reconst.csdeconv import ConstrainedSphericalDeconvModel, auto_response_ssst\n",
    "from dipy.reconst.shm import CsaOdfModel\n",
    "from dipy.tracking import utils\n",
    "from dipy.tracking.local_tracking import LocalTracking\n",
    "from dipy.tracking.stopping_criterion import ThresholdStoppingCriterion\n",
    "from dipy.tracking.streamline import Streamlines\n",
    "from dipy.viz import has_fury\n",
    "\n",
    "if has_fury:\n",
    "    from dipy.viz import window, actor, colormap\n",
    "\n",
    "import numpy as np\n",
    "\n",
    "# visualization libraries\n",
    "%matplotlib inline\n",
    "import matplotlib as mpl\n",
    "import matplotlib.pyplot as plt\n",
    "import seaborn as sns\n",
    "\n",
    "plt.rcParams.update({\"figure.autolayout\": True})\n",
    "plt.rcParams.update({\"figure.facecolor\": [1.0, 1.0, 1.0, 1.0]})\n",
    "plt.rcParams.update({\"image.cmap\": \"gray\"})\n",
    "\n",
    "# Set print options for ndarrays/tensors.\n",
    "np.set_printoptions(suppress=True, threshold=100, linewidth=88)"
   ]
  },
  {
   "cell_type": "code",
   "execution_count": 2,
   "id": "52e9c98e",
   "metadata": {
    "lines_to_next_cell": 2
   },
   "outputs": [
    {
     "data": {
      "application/vnd.jupyter.widget-view+json": {
       "model_id": "5cf499d9fe2647c19157c025680b2dbd",
       "version_major": 2,
       "version_minor": 0
      },
      "text/plain": [
       "  0%|          | 0/5578 [00:00<?, ? MB/s]"
      ]
     },
     "metadata": {},
     "output_type": "display_data"
    },
    {
     "data": {
      "application/vnd.jupyter.widget-view+json": {
       "model_id": "c69a8940c9f34e87a0909fdb6decb498",
       "version_major": 2,
       "version_minor": 0
      },
      "text/plain": [
       "  0%|          | 0/1 [00:00<?, ? MB/s]"
      ]
     },
     "metadata": {},
     "output_type": "display_data"
    },
    {
     "data": {
      "application/vnd.jupyter.widget-view+json": {
       "model_id": "d5d8795f02e04afe8bc4ee7d24302994",
       "version_major": 2,
       "version_minor": 0
      },
      "text/plain": [
       "  0%|          | 0/1 [00:00<?, ? MB/s]"
      ]
     },
     "metadata": {},
     "output_type": "display_data"
    },
    {
     "data": {
      "application/vnd.jupyter.widget-view+json": {
       "model_id": "2e27428516e14cb58f581ed65a24fe68",
       "version_major": 2,
       "version_minor": 0
      },
      "text/plain": [
       "  0%|          | 0/4 [00:00<?, ? MB/s]"
      ]
     },
     "metadata": {},
     "output_type": "display_data"
    },
    {
     "data": {
      "application/vnd.jupyter.widget-view+json": {
       "model_id": "8eb57ecab514437ebc45650575c9d705",
       "version_major": 2,
       "version_minor": 0
      },
      "text/plain": [
       "  0%|          | 0/1 [00:00<?, ? MB/s]"
      ]
     },
     "metadata": {},
     "output_type": "display_data"
    }
   ],
   "source": [
    "# Enables/disables interactive visualization\n",
    "interactive = False\n",
    "hardi_fname, hardi_bval_fname, hardi_bvec_fname = get_fnames(\"stanford_hardi\")\n",
    "label_fname = get_fnames(\"stanford_labels\")\n",
    "data, affine, hardi_img = load_nifti(hardi_fname, return_img=True)\n",
    "labels = load_nifti_data(label_fname)\n",
    "bvals, bvecs = read_bvals_bvecs(hardi_bval_fname, hardi_bvec_fname)\n",
    "gtab = gradient_table(bvals, bvecs)\n",
    "seed_mask = labels == 2\n",
    "white_matter = (labels == 1) | (labels == 2)\n",
    "seeds = utils.seeds_from_mask(seed_mask, affine, density=1)\n",
    "response, ratio = auto_response_ssst(gtab, data, roi_radii=10, fa_thr=0.7)"
   ]
  },
  {
   "cell_type": "code",
   "execution_count": 3,
   "id": "11511f87",
   "metadata": {},
   "outputs": [
    {
     "name": "stderr",
     "output_type": "stream",
     "text": [
      "100%|██████████| 58788/58788 [00:07<00:00, 7848.72it/s]\n"
     ]
    }
   ],
   "source": [
    "csd_model = ConstrainedSphericalDeconvModel(gtab, response, sh_order=6)\n",
    "csd_fit = csd_model.fit(data, mask=white_matter)"
   ]
  },
  {
   "cell_type": "code",
   "execution_count": 9,
   "id": "0c19213c",
   "metadata": {},
   "outputs": [],
   "source": [
    "csa_model = CsaOdfModel(gtab, sh_order=6)\n",
    "gfa = csa_model.fit(data, mask=white_matter).gfa\n",
    "stopping_criterion = ThresholdStoppingCriterion(gfa, 0.25)"
   ]
  },
  {
   "cell_type": "markdown",
   "id": "41eb4516",
   "metadata": {
    "lines_to_next_cell": 2
   },
   "source": [
    "The Fiber Orientation Distribution (FOD) of the CSD model estimates the\n",
    "distribution of small fiber bundles within each voxel. This distribution\n",
    "can be used for deterministic fiber tracking. As for probabilistic tracking,\n",
    "there are many ways to provide those distributions to the deterministic maximum\n",
    "direction getter. Here, the spherical harmonic representation of the FOD\n",
    "is used."
   ]
  },
  {
   "cell_type": "code",
   "execution_count": 12,
   "id": "4efd0bd2",
   "metadata": {},
   "outputs": [],
   "source": [
    "detmax_dg = DeterministicMaximumDirectionGetter.from_shcoeff(\n",
    "    csd_fit.shm_coeff, max_angle=30.0, sphere=default_sphere\n",
    ")\n",
    "streamline_generator = LocalTracking(\n",
    "    detmax_dg, stopping_criterion, seeds, affine, step_size=0.5\n",
    ")"
   ]
  },
  {
   "cell_type": "code",
   "execution_count": 63,
   "id": "b754244b",
   "metadata": {},
   "outputs": [],
   "source": [
    "streamlines = Streamlines(streamline_generator)\n",
    "sft = StatefulTractogram(streamlines, hardi_img, Space.RASMM)\n",
    "# save_trk(sft, \"tractogram_deterministic_dg.trk\")"
   ]
  },
  {
   "cell_type": "code",
   "execution_count": 60,
   "id": "61ce395c",
   "metadata": {},
   "outputs": [
    {
     "name": "stdout",
     "output_type": "stream",
     "text": [
      "\u001b[0;31mType:\u001b[0m        DeterministicMaximumDirectionGetter\n",
      "\u001b[0;31mString form:\u001b[0m <dipy.direction.probabilistic_direction_getter.DeterministicMaximumDirectionGetter object at 0x7f090c588fb0>\n",
      "\u001b[0;31mFile:\u001b[0m        ~/miniconda/envs/pitn2/lib/python3.10/site-packages/dipy/direction/probabilistic_direction_getter.cpython-310-x86_64-linux-gnu.so\n",
      "\u001b[0;31mDocstring:\u001b[0m  \n",
      "Return direction of a sphere with the highest probability mass\n",
      "function (pmf).\n"
     ]
    }
   ],
   "source": [
    "?detmax_dg"
   ]
  },
  {
   "cell_type": "code",
   "execution_count": null,
   "id": "2a974d40",
   "metadata": {},
   "outputs": [],
   "source": [
    "if has_fury:\n",
    "    scene = window.Scene()\n",
    "    scene.add(actor.line(streamlines, colormap.line_colors(streamlines)))\n",
    "    window.record(scene, out_path=\"tractogram_deterministic_dg.png\", size=(800, 800))\n",
    "    if interactive:\n",
    "        window.show(scene)"
   ]
  },
  {
   "cell_type": "markdown",
   "id": "41eb4516",
   "metadata": {
    "lines_to_next_cell": 2
   },
   "source": [
    "The Fiber Orientation Distribution (FOD) of the CSD model estimates the\n",
    "distribution of small fiber bundles within each voxel. This distribution\n",
    "can be used for deterministic fiber tracking. As for probabilistic tracking,\n",
    "there are many ways to provide those distributions to the deterministic maximum\n",
    "direction getter. Here, the spherical harmonic representation of the FOD\n",
    "is used."
   ]
  }
 ],
 "metadata": {
  "jupytext": {
   "cell_metadata_filter": "-all",
   "main_language": "python",
   "notebook_metadata_filter": "-all"
  },
  "kernelspec": {
   "display_name": "Python 3.10.5 ('base')",
   "language": "python",
   "name": "python3"
  },
  "language_info": {
   "codemirror_mode": {
    "name": "ipython",
    "version": 3
   },
   "file_extension": ".py",
   "mimetype": "text/x-python",
   "name": "python",
   "nbconvert_exporter": "python",
   "pygments_lexer": "ipython3",
   "version": "3.10.8"
  },
  "vscode": {
   "interpreter": {
    "hash": "f41faa2479836806c9664d670a156675ad0f09912fd4b0aed749f41e3cac86f4"
   }
  }
 },
 "nbformat": 4,
 "nbformat_minor": 5
}
