{
 "cells": [
  {
   "cell_type": "markdown",
   "id": "73408619",
   "metadata": {},
   "source": [
    "# Non-Learning Baseline Comparisons for Super-Resolution of fODFs in Diffusion MRI\n",
    "\n",
    "Code by:\n",
    "\n",
    "Tyler Spears - tas6hh@virginia.edu\n",
    "\n",
    "Dr. Tom Fletcher"
   ]
  },
  {
   "cell_type": "markdown",
   "id": "e64ef468",
   "metadata": {},
   "source": [
    "## Imports & Setup"
   ]
  },
  {
   "cell_type": "code",
   "execution_count": 19,
   "id": "f8d7897f",
   "metadata": {
    "execution": {
     "iopub.execute_input": "2022-12-01T20:13:53.001100Z",
     "iopub.status.busy": "2022-12-01T20:13:53.000440Z",
     "iopub.status.idle": "2022-12-01T20:13:53.076346Z",
     "shell.execute_reply": "2022-12-01T20:13:53.075315Z",
     "shell.execute_reply.started": "2022-12-01T20:13:53.001052Z"
    },
    "tags": []
   },
   "outputs": [
    {
     "name": "stdout",
     "output_type": "stream",
     "text": [
      "The autoreload extension is already loaded. To reload it, use:\n",
      "  %reload_ext autoreload\n"
     ]
    }
   ],
   "source": [
    "# Imports\n",
    "# Automatically re-import project-specific modules.\n",
    "%load_ext autoreload\n",
    "%autoreload 2\n",
    "\n",
    "# imports\n",
    "import collections\n",
    "import copy\n",
    "import datetime\n",
    "import functools\n",
    "import inspect\n",
    "import io\n",
    "import itertools\n",
    "import math\n",
    "import os\n",
    "import pathlib\n",
    "import pdb\n",
    "import random\n",
    "import shutil\n",
    "import subprocess\n",
    "import sys\n",
    "import tempfile\n",
    "import time\n",
    "import typing\n",
    "import warnings\n",
    "import zipfile\n",
    "from pathlib import Path\n",
    "from pprint import pprint as ppr\n",
    "\n",
    "import aim\n",
    "import dotenv\n",
    "import einops\n",
    "\n",
    "# visualization libraries\n",
    "%matplotlib inline\n",
    "import matplotlib as mpl\n",
    "import matplotlib.pyplot as plt\n",
    "import monai\n",
    "\n",
    "# Data management libraries.\n",
    "import nibabel as nib\n",
    "import nibabel.processing\n",
    "import transforms3d\n",
    "\n",
    "# Computation & ML libraries.\n",
    "import numpy as np\n",
    "import SimpleITK as sitk\n",
    "import pandas as pd\n",
    "import seaborn as sns\n",
    "import skimage\n",
    "import torch\n",
    "import torch.nn.functional as F\n",
    "from box import Box\n",
    "from icecream import ic\n",
    "from natsort import natsorted\n",
    "import dipy\n",
    "\n",
    "import pitn\n",
    "\n",
    "plt.rcParams.update({\"figure.autolayout\": True})\n",
    "plt.rcParams.update({\"figure.facecolor\": [1.0, 1.0, 1.0, 1.0]})\n",
    "plt.rcParams.update({\"image.cmap\": \"gray\"})\n",
    "\n",
    "# Set print options for ndarrays/tensors.\n",
    "np.set_printoptions(suppress=True, threshold=100, linewidth=88)\n",
    "torch.set_printoptions(sci_mode=False, threshold=100, linewidth=88)"
   ]
  },
  {
   "cell_type": "code",
   "execution_count": 2,
   "id": "8c68d20e",
   "metadata": {
    "execution": {
     "iopub.execute_input": "2022-12-01T19:34:44.232247Z",
     "iopub.status.busy": "2022-12-01T19:34:44.230892Z",
     "iopub.status.idle": "2022-12-01T19:34:45.789600Z",
     "shell.execute_reply": "2022-12-01T19:34:45.788466Z",
     "shell.execute_reply.started": "2022-12-01T19:34:44.232196Z"
    }
   },
   "outputs": [
    {
     "name": "stderr",
     "output_type": "stream",
     "text": [
      "direnv: loading ~/work/pitn/.envrc\n",
      "direnv: creating conda environment\n",
      "\n",
      "CondaValueError: prefix already exists: /home/tas6hh/miniconda/envs/pitn2\n",
      "\n",
      "\n",
      "EnvironmentLocationNotFound: Not a conda environment: /\n",
      "\n"
     ]
    },
    {
     "data": {
      "text/plain": [
       "True"
      ]
     },
     "execution_count": 2,
     "metadata": {},
     "output_type": "execute_result"
    }
   ],
   "source": [
    "# Update notebook's environment variables with direnv.\n",
    "# This requires the python-dotenv package, and direnv be installed on the system\n",
    "# This will not work on Windows.\n",
    "# NOTE: This is kind of hacky, and not necessarily safe. Be careful...\n",
    "# Libraries needed on the python side:\n",
    "# - os\n",
    "# - subprocess\n",
    "# - io\n",
    "# - dotenv\n",
    "\n",
    "# Form command to be run in direnv's context. This command will print out\n",
    "# all environment variables defined in the subprocess/sub-shell.\n",
    "command = \"direnv exec {} /usr/bin/env\".format(os.getcwd())\n",
    "# Run command in a new subprocess.\n",
    "proc = subprocess.Popen(command, stdout=subprocess.PIPE, shell=True, cwd=os.getcwd())\n",
    "# Store and format the subprocess' output.\n",
    "proc_out = proc.communicate()[0].strip().decode(\"utf-8\")\n",
    "# Use python-dotenv to load the environment variables by using the output of\n",
    "# 'direnv exec ...' as a 'dummy' .env file.\n",
    "dotenv.load_dotenv(stream=io.StringIO(proc_out), override=True)"
   ]
  },
  {
   "cell_type": "code",
   "execution_count": 3,
   "id": "26871439",
   "metadata": {
    "execution": {
     "iopub.execute_input": "2022-12-01T19:34:45.791168Z",
     "iopub.status.busy": "2022-12-01T19:34:45.790867Z",
     "iopub.status.idle": "2022-12-01T19:34:45.934893Z",
     "shell.execute_reply": "2022-12-01T19:34:45.933542Z",
     "shell.execute_reply.started": "2022-12-01T19:34:45.791142Z"
    },
    "tags": [
     "active-ipynb"
    ]
   },
   "outputs": [],
   "source": [
    "%%capture --no-stderr cap\n",
    "# Capture output and save to log. Needs to be at the *very first* line of the cell.\n",
    "# Watermark\n",
    "%load_ext watermark\n",
    "%watermark --author \"Tyler Spears\" --updated --iso8601  --python --machine --iversions --githash\n",
    "if torch.cuda.is_available():\n",
    "    # GPU information\n",
    "    try:\n",
    "        gpu_info = pitn.utils.system.get_gpu_specs()\n",
    "        print(gpu_info)\n",
    "    except NameError:\n",
    "        print(\"CUDA Version: \", torch.version.cuda)\n",
    "else:\n",
    "    print(\"CUDA not in use, falling back to CPU\")"
   ]
  },
  {
   "cell_type": "code",
   "execution_count": 4,
   "id": "bb719750",
   "metadata": {
    "execution": {
     "iopub.execute_input": "2022-12-01T19:34:45.938060Z",
     "iopub.status.busy": "2022-12-01T19:34:45.937653Z",
     "iopub.status.idle": "2022-12-01T19:34:45.987872Z",
     "shell.execute_reply": "2022-12-01T19:34:45.986832Z",
     "shell.execute_reply.started": "2022-12-01T19:34:45.938023Z"
    },
    "tags": [
     "active-ipynb",
     "keep_output"
    ]
   },
   "outputs": [
    {
     "name": "stdout",
     "output_type": "stream",
     "text": [
      "Author: Tyler Spears\n",
      "\n",
      "Last updated: 2022-12-01T19:34:45.848421+00:00\n",
      "\n",
      "Python implementation: CPython\n",
      "Python version       : 3.10.8\n",
      "IPython version      : 8.4.0\n",
      "\n",
      "Compiler    : GCC 10.4.0\n",
      "OS          : Linux\n",
      "Release     : 5.15.0-53-generic\n",
      "Machine     : x86_64\n",
      "Processor   : x86_64\n",
      "CPU cores   : 20\n",
      "Architecture: 64bit\n",
      "\n",
      "Git hash: 0d7cc23be643dc3985734d4d9cac80a355c2ebe9\n",
      "\n",
      "json        : 2.0.9\n",
      "aim         : 3.14.4\n",
      "skimage     : 0.19.3\n",
      "sys         : 3.10.8 | packaged by conda-forge | (main, Nov 22 2022, 08:23:14) [GCC 10.4.0]\n",
      "nibabel     : 4.0.1\n",
      "SimpleITK   : 2.1.0\n",
      "monai       : 1.0.0\n",
      "pandas      : 1.5.2\n",
      "matplotlib  : 3.5.2\n",
      "transforms3d: 0.4.1\n",
      "numpy       : 1.23.4\n",
      "seaborn     : 0.12.1\n",
      "torch       : 1.12.1\n",
      "einops      : 0.4.1\n",
      "pitn        : 0.0.post1.dev206+gf002231.d20220911\n",
      "\n",
      "CUDA not in use, falling back to CPU\n",
      "\n"
     ]
    }
   ],
   "source": [
    "# cap is defined in an ipython magic command\n",
    "try:\n",
    "    print(cap)\n",
    "except NameError:\n",
    "    pass"
   ]
  },
  {
   "cell_type": "markdown",
   "id": "28d3a5c6",
   "metadata": {},
   "source": [
    "## Experiment & Parameters Setup"
   ]
  },
  {
   "cell_type": "code",
   "execution_count": 5,
   "id": "3cd75175",
   "metadata": {
    "execution": {
     "iopub.execute_input": "2022-12-01T19:34:45.989091Z",
     "iopub.status.busy": "2022-12-01T19:34:45.988848Z",
     "iopub.status.idle": "2022-12-01T19:34:46.038257Z",
     "shell.execute_reply": "2022-12-01T19:34:46.037481Z",
     "shell.execute_reply.started": "2022-12-01T19:34:45.989068Z"
    },
    "tags": []
   },
   "outputs": [
    {
     "name": "stdout",
     "output_type": "stream",
     "text": [
      "WARNING: Config file not loaded\n"
     ]
    }
   ],
   "source": [
    "p = Box(default_box=True)\n",
    "# Experiment defaults, can be overridden in a config file.\n",
    "\n",
    "# General experiment-wide params\n",
    "###############################################\n",
    "# p.experiment_name = \"interpolation_baseline\"\n",
    "p.override_experiment_name = False\n",
    "p.results_dir = \"/data/srv/outputs/pitn/results/runs\"\n",
    "p.tmp_results_dir = \"/data/srv/outputs/pitn/results/tmp\"\n",
    "\n",
    "p.tvt_split_files = list(Path(\"./data_splits\").glob(\"HCP*train-val-test_split*.csv\"))\n",
    "\n",
    "# If a config file exists, override the defaults with those values.\n",
    "try:\n",
    "    if \"PITN_CONFIG\" in os.environ.keys():\n",
    "        config_fname = Path(os.environ[\"PITN_CONFIG\"])\n",
    "    else:\n",
    "        config_fname = pitn.utils.system.get_file_glob_unique(Path(\".\"), r\"config.*\")\n",
    "    f_type = config_fname.suffix.casefold()\n",
    "    if f_type in {\".yaml\", \".yml\"}:\n",
    "        f_params = Box.from_yaml(filename=config_fname)\n",
    "    elif f_type == \".json\":\n",
    "        f_params = Box.from_json(filename=config_fname)\n",
    "    elif f_type == \".toml\":\n",
    "        f_params = Box.from_toml(filename=config_fname)\n",
    "    else:\n",
    "        raise RuntimeError()\n",
    "\n",
    "    p.merge_update(f_params)\n",
    "\n",
    "except:\n",
    "    print(\"WARNING: Config file not loaded\")\n",
    "    pass\n",
    "\n",
    "# Remove the default_box behavior now that params have been fully read in.\n",
    "_p = Box(default_box=False)\n",
    "_p.merge_update(p)\n",
    "p = _p"
   ]
  },
  {
   "cell_type": "code",
   "execution_count": 6,
   "id": "79e24dee",
   "metadata": {
    "execution": {
     "iopub.execute_input": "2022-12-01T19:34:46.040341Z",
     "iopub.status.busy": "2022-12-01T19:34:46.039611Z",
     "iopub.status.idle": "2022-12-01T19:34:46.087888Z",
     "shell.execute_reply": "2022-12-01T19:34:46.086584Z",
     "shell.execute_reply.started": "2022-12-01T19:34:46.040295Z"
    },
    "tags": []
   },
   "outputs": [],
   "source": [
    "subj_ids = set()\n",
    "for f in p.tvt_split_files:\n",
    "    split = pd.read_csv(f)\n",
    "    split_subjs = set(split.subj_id.tolist())\n",
    "    subj_ids = subj_ids | split_subjs\n",
    "\n",
    "p.subj_ids = natsorted(list(subj_ids))\n",
    "p.viz_subjs = random.sample(p.subj_ids, k=4)"
   ]
  },
  {
   "cell_type": "markdown",
   "id": "bc1047b3",
   "metadata": {},
   "source": [
    "## Data Loading"
   ]
  },
  {
   "cell_type": "code",
   "execution_count": 7,
   "id": "d6a12cb2",
   "metadata": {
    "execution": {
     "iopub.execute_input": "2022-12-01T19:34:46.088807Z",
     "iopub.status.busy": "2022-12-01T19:34:46.088643Z",
     "iopub.status.idle": "2022-12-01T19:34:46.112615Z",
     "shell.execute_reply": "2022-12-01T19:34:46.111868Z",
     "shell.execute_reply.started": "2022-12-01T19:34:46.088792Z"
    },
    "tags": []
   },
   "outputs": [],
   "source": [
    "hcp_full_res_data_dir = Path(\"/data/srv/data/pitn/hcp\")\n",
    "hcp_full_res_fodf_dir = Path(\"/data/srv/outputs/pitn/hcp/full-res/fodf\")\n",
    "hcp_low_res_data_dir = Path(\"/data/srv/outputs/pitn/hcp/downsample/scale-2.00mm/vol\")\n",
    "hcp_low_res_fodf_dir = Path(\"/data/srv/outputs/pitn/hcp/downsample/scale-2.00mm/fodf\")\n",
    "\n",
    "assert hcp_full_res_data_dir.exists()\n",
    "assert hcp_full_res_fodf_dir.exists()\n",
    "assert hcp_low_res_data_dir.exists()\n",
    "assert hcp_low_res_fodf_dir.exists()"
   ]
  },
  {
   "cell_type": "markdown",
   "id": "75bf5a57",
   "metadata": {},
   "source": [
    "### Validation & Test Datasets"
   ]
  },
  {
   "cell_type": "code",
   "execution_count": 8,
   "id": "b9105038",
   "metadata": {
    "execution": {
     "iopub.execute_input": "2022-12-01T19:34:46.113412Z",
     "iopub.status.busy": "2022-12-01T19:34:46.113258Z",
     "iopub.status.idle": "2022-12-01T19:34:47.188342Z",
     "shell.execute_reply": "2022-12-01T19:34:47.187097Z",
     "shell.execute_reply.started": "2022-12-01T19:34:46.113399Z"
    },
    "lines_to_next_cell": 1,
    "tags": []
   },
   "outputs": [
    {
     "name": "stdout",
     "output_type": "stream",
     "text": [
      "==========\n",
      "Warnings caught:\n",
      "\n",
      "==========\n"
     ]
    }
   ],
   "source": [
    "with warnings.catch_warnings(record=True) as warn_list:\n",
    "\n",
    "    # Test dataset.\n",
    "    # The test dataset won't be cached, as each image should only be loaded once.\n",
    "    test_paths_dataset = pitn.data.datasets.HCPfODFINRDataset(\n",
    "        subj_ids=p.subj_ids,\n",
    "        dwi_root_dir=hcp_full_res_data_dir,\n",
    "        fodf_root_dir=hcp_full_res_fodf_dir,\n",
    "        lr_dwi_root_dir=hcp_low_res_data_dir,\n",
    "        lr_fodf_root_dir=hcp_low_res_fodf_dir,\n",
    "        transform=pitn.data.datasets.HCPfODFINRDataset.default_pre_sample_tf(\n",
    "            0, skip_sample_mask=True\n",
    "        ),\n",
    "    )\n",
    "    test_dataset = pitn.data.datasets.HCPfODFINRWholeVolDataset(\n",
    "        test_paths_dataset,\n",
    "        transform=pitn.data.datasets.HCPfODFINRWholeVolDataset.default_tf(),\n",
    "    )\n",
    "\n",
    "print(\"=\" * 10)\n",
    "print(\"Warnings caught:\")\n",
    "ws = \"\\n\".join(\n",
    "    [\n",
    "        warnings.formatwarning(\n",
    "            w.message, w.category, w.filename, w.lineno, w.file, w.line\n",
    "        )\n",
    "        for w in warn_list\n",
    "    ]\n",
    ")\n",
    "ws = \"\\n\".join(filter(lambda s: bool(s.strip()), ws.splitlines()))\n",
    "print(ws, flush=True)\n",
    "print(\"=\" * 10)"
   ]
  },
  {
   "cell_type": "code",
   "execution_count": 9,
   "id": "6bcee062-1299-46ae-8ff4-33c0502a442a",
   "metadata": {
    "execution": {
     "iopub.execute_input": "2022-12-01T19:34:47.191041Z",
     "iopub.status.busy": "2022-12-01T19:34:47.190022Z",
     "iopub.status.idle": "2022-12-01T19:34:47.237728Z",
     "shell.execute_reply": "2022-12-01T19:34:47.237013Z",
     "shell.execute_reply.started": "2022-12-01T19:34:47.190992Z"
    },
    "tags": []
   },
   "outputs": [],
   "source": [
    "test_dataloader = monai.data.DataLoader(\n",
    "    test_dataset,\n",
    "    batch_size=1,\n",
    "    shuffle=True,\n",
    "    pin_memory=False,\n",
    "    # num_workers=0,\n",
    "    num_workers=3,\n",
    "    prefetch_factor=3,\n",
    "    persistent_workers=True,\n",
    ")"
   ]
  },
  {
   "cell_type": "markdown",
   "id": "343cddbb",
   "metadata": {},
   "source": [
    "## Evaluation"
   ]
  },
  {
   "cell_type": "code",
   "execution_count": 10,
   "id": "bb7f98b7-579f-41d1-8fdf-430921787e2b",
   "metadata": {
    "execution": {
     "iopub.execute_input": "2022-12-01T19:34:47.239682Z",
     "iopub.status.busy": "2022-12-01T19:34:47.239450Z",
     "iopub.status.idle": "2022-12-01T19:34:47.269352Z",
     "shell.execute_reply": "2022-12-01T19:34:47.268442Z",
     "shell.execute_reply.started": "2022-12-01T19:34:47.239667Z"
    },
    "tags": []
   },
   "outputs": [],
   "source": [
    "result_table = {\"subj_id\": list(), \"mse_mean\": list(), \"mse_var\": list()}"
   ]
  },
  {
   "cell_type": "markdown",
   "id": "617f5742-1a2f-4bb4-96ab-7c3209cfb106",
   "metadata": {},
   "source": [
    "### Linear Interpolation"
   ]
  },
  {
   "cell_type": "code",
   "execution_count": 13,
   "id": "e8769d06-c386-49f3-be35-8c3f0f434fc6",
   "metadata": {
    "execution": {
     "iopub.execute_input": "2022-12-01T19:36:36.081036Z",
     "iopub.status.busy": "2022-12-01T19:36:36.080382Z",
     "iopub.status.idle": "2022-12-01T19:47:58.915992Z",
     "shell.execute_reply": "2022-12-01T19:47:58.915468Z",
     "shell.execute_reply.started": "2022-12-01T19:36:36.080985Z"
    },
    "tags": []
   },
   "outputs": [
    {
     "name": "stdout",
     "output_type": "stream",
     "text": [
      "Subj 647858 MSE 0.00026799298939295113 | Subj 510225 MSE 0.0006521903560496867 | Subj 165032 MSE 0.0007730822544544935 | Subj 497865 MSE 0.0007140398374758661 | Subj 519950 MSE 0.0012175769079476595 | Subj 153227 MSE 0.0015535678248852491 | Subj 149236 MSE 0.0006453408859670162 | Subj 135225 MSE 0.00028459817986004055 | Subj 134425 MSE 0.0008819212089292705 | Subj 845458 MSE 0.0015323726693168283 | Subj 500222 MSE 0.0012331182369962335 | Subj 896778 MSE 0.0014263910707086325 | Subj 236130 MSE 0.00031864785705693066 | Subj 217429 MSE 0.0015833323122933507 | Subj 143830 MSE 0.00038678274722769856 | Subj 139839 MSE 0.0004411425907164812 | Subj 929464 MSE 0.00023061926185619086 | Subj 480141 MSE 0.001694306032732129 | Subj 195849 MSE 0.0009307701839134097 | Subj 769064 MSE 0.0005133814993314445 | Subj 248339 MSE 0.0008642168249934912 | Subj 749058 MSE 0.00035164383007213473 | Subj 159946 MSE 0.00028469215612858534 | Subj 857263 MSE 0.0004839627363253385 | Subj 580751 MSE 0.0002975362294819206 | Subj 154532 MSE 0.0009020125144161284 | Subj 154835 MSE 0.000292839715257287 | Subj 704238 MSE 0.0007782757747918367 | Subj 680452 MSE 0.0006611276767216623 | Subj 154734 MSE 0.00030069128843024373 | Subj 138837 MSE 0.0006894950638525188 | Subj 106824 MSE 0.0006802355055697262 | Subj 627852 MSE 0.0003582119243219495 | Subj 545345 MSE 0.00040639477083459496 | Subj 459453 MSE 0.0004086688859388232 | Subj 516742 MSE 0.0002993691887240857 | Subj 118730 MSE 0.0006524782511405647 | Creating prediction viz\n",
      "Subj 994273 MSE 0.000517462205607444 | Subj 654350 MSE 0.0014416917692869902 | Subj 492754 MSE 0.0014540646225214005 | Subj 965367 MSE 0.0003845931205432862 | Subj 211922 MSE 0.0005790922441519797 | Subj 121719 MSE 0.0011197563726454973 | Subj 453542 MSE 0.0003907406353391707 | Subj 144428 MSE 0.0003746181319002062 | Subj 123420 MSE 0.0007690439815632999 | Subj 147030 MSE 0.0003316005750093609 | Subj 110613 MSE 0.0004731667577289045 | Subj 993675 MSE 0.00018486699264030904 | Subj 250427 MSE 0.0002630795061122626 | Subj 192237 MSE 0.0003737201914191246 | Subj 445543 MSE 0.00023636248079128563 | Subj 195647 MSE 0.00021310505690053105 | Subj 100307 MSE 0.00020603236043825746 | Subj 422632 MSE 0.0006073489203117788 | Subj 172433 MSE 0.0009401756105944514 | Subj 529549 MSE 0.0005425109411589801 | Subj 917255 MSE 0.00023390378919430077 | Subj 553344 MSE 0.00023057970975060016 | Subj 130013 MSE 0.00047485181130468845 | Subj 571144 MSE 0.0007457429310306907 | Subj 105115 MSE 0.00025198564981110394 | Subj 133019 MSE 0.0009703977266326547 | Subj 379657 MSE 0.0002498413377907127 | Subj 163331 MSE 0.0004778003494720906 | Subj 139637 MSE 0.0010095114121213555 | Subj 788674 MSE 0.001025111647322774 | Creating prediction viz\n",
      "Subj 802844 MSE 0.0002535790263209492 | Subj 118124 MSE 0.00023682790924794972 | Subj 129028 MSE 0.00024790779571048915 | Subj 809252 MSE 0.0008022456895560026 | Subj 148840 MSE 0.0008539448026567698 | Subj 559457 MSE 0.00021553249098360538 | Subj 245333 MSE 0.0004852859419770539 | Subj 773257 MSE 0.0009863442974165082 | Subj 156637 MSE 0.001315056113526225 | Subj 734045 MSE 0.00138916727155447 | Subj 186545 MSE 0.0006992274429649115 | Subj 104820 MSE 0.0013032351853325963 | Subj 144125 MSE 0.0015633773291483521 | Subj 735148 MSE 0.0011805061949416995 | Subj 250932 MSE 0.001145215705037117 | Subj 187850 MSE 0.0017432254971936345 | Subj 155231 MSE 0.0008943309658206999 | Subj 978578 MSE 0.0016037040622904897 | Subj 930449 MSE 0.0005644360207952559 | Subj 200513 MSE 0.00017481244867667556 | Subj 518746 MSE 0.0002655691059771925 | Subj 683256 MSE 0.00042986386688426137 | Subj 677968 MSE 0.0008746401290409267 | Subj 199150 MSE 0.0001955379411811009 | Subj 183741 MSE 0.0005030229222029448 | Subj 194645 MSE 0.0008488596067763865 | Subj 727654 MSE 0.0006343754939734936 | Subj 385450 MSE 0.0002831524470821023 | Subj 529953 MSE 0.00020870263688266277 | Subj 720337 MSE 0.0006843272713012993 | Subj 350330 MSE 0.00026593185612000525 | Subj 164939 MSE 0.0008060879772529006 | Subj 293748 MSE 0.0010004815412685275 | Subj 485757 MSE 0.0015990883111953735 | Subj 144933 MSE 0.00024257531913463026 | Subj 178849 MSE 0.0006248777499422431 | Subj 872562 MSE 0.00029240993899293244 | Subj 604537 MSE 0.000991287874057889 | Subj 173940 MSE 0.0002941988641396165 | Subj 149539 MSE 0.00035511888563632965 | Subj 204016 MSE 0.0002538732660468668 | Subj 181131 MSE 0.0011058447416871786 | Subj 158540 MSE 0.0012276532361283898 | Subj 991267 MSE 0.000778669083956629 | Subj 122822 MSE 0.0008515414665453136 | Subj 131924 MSE 0.0005292876739986241 | Subj 300719 MSE 0.0006458120769821107 | Subj 202113 MSE 0.0006901659653522074 | Subj 130316 MSE 0.0002754352753981948 | Subj 256540 MSE 0.0014607197372242808 | Subj 198451 MSE 0.0016182580729946494 | Subj 911849 MSE 0.000334069860400632 | Subj 145127 MSE 0.000320600054692477 | Subj 270332 MSE 0.0008439295925199986 | Subj 300618 MSE 0.0011056010844185948 | Subj 141422 MSE 0.00029610004276037216 | Creating prediction viz\n",
      "Subj 150019 MSE 0.00045059731928631663 | Subj 122317 MSE 0.0012155427830293775 | Subj 481042 MSE 0.0003062225296162069 | Subj 208226 MSE 0.0005033971392549574 | Subj 114419 MSE 0.00035342489718459547 | Subj 275645 MSE 0.00017683762416709214 | Subj 972566 MSE 0.0015500554582104087 | Subj 289555 MSE 0.0005321712233126163 | Subj 133827 MSE 0.0003672635939437896 | Subj 123925 MSE 0.0015763150295242667 | Subj 654754 MSE 0.0009439555578865111 | Subj 645450 MSE 0.0009498688741587102 | Subj 715647 MSE 0.0016968586714938283 | Subj 126628 MSE 0.0010946125257760286 | Subj 368551 MSE 0.0006321340915746987 | Subj 151425 MSE 0.001521680736914277 | Subj 198047 MSE 0.0003889326471835375 | Subj 113215 MSE 0.0007400684989988804 | Subj 171532 MSE 0.0006471797823905945 | Subj 298051 MSE 0.0005481871194206178 | Subj 107422 MSE 0.001469840295612812 | Subj 119833 MSE 0.0016243999125435948 | Subj 147737 MSE 0.00024022636353038251 | Subj 191942 MSE 0.0002947927569039166 | Subj 731140 MSE 0.001160051324404776 | Subj 156435 MSE 0.0013372222892940044 | Subj 871964 MSE 0.0011927675222977996 | Subj 376247 MSE 0.00038985194987617433 | Subj 465852 MSE 0.0010206071892753243 | Subj 812746 MSE 0.0014376990729942918 | Subj 168341 MSE 0.0007498196791857481 | Subj 415837 MSE 0.0011073676869273186 | Subj 748662 MSE 0.0002772970183286816 | Subj 656253 MSE 0.00031870478414930403 | Subj 353740 MSE 0.0005458094528876245 | Subj 124422 MSE 0.000863608147483319 | Subj 314225 MSE 0.0002923755382653326 | Subj 495255 MSE 0.0008857125649228692 | Subj 255639 MSE 0.0008566492469981313 | Subj 193441 MSE 0.00019163181423209608 | Subj 151526 MSE 0.0005918715614825487 | Subj 179346 MSE 0.0007115650223568082 | Subj 461743 MSE 0.0005993609083816409 | Subj 843151 MSE 0.0011900309473276138 | Subj 419239 MSE 0.00043232672032900155 | Subj 127832 MSE 0.0003997163730673492 | Subj 108222 MSE 0.00035184467560611665 | Subj 100206 MSE 0.0008188373758457601 | Subj 567961 MSE 0.0006376499659381807 | Subj 833148 MSE 0.00023434819013345987 | Subj 193239 MSE 0.0003051739768125117 | Subj 361234 MSE 0.0005630312953144312 | Subj 341834 MSE 0.00041737710125744343 | Subj 469961 MSE 0.00041692901868373156 | Subj 146836 MSE 0.00047345555503852665 | Subj 849971 MSE 0.00024905780446715653 | Subj 800941 MSE 0.0005419864901341498 | Subj 201818 MSE 0.0005182565655559301 | Subj 189349 MSE 0.0003475402481853962 | Subj 122418 MSE 0.0003777356178034097 | Subj 192843 MSE 0.0002489547769073397 | Subj 519647 MSE 0.0006786813610233366 | Subj 391748 MSE 0.0014973717043176293 | Subj 160931 MSE 0.0007343782344833016 | Subj 268850 MSE 0.0006196472095325589 | Subj 562446 MSE 0.00153518992010504 | Subj 180836 MSE 0.0012850424973294139 | Subj 180735 MSE 0.0002303552464582026 | Subj 227432 MSE 0.0014228492509573698 | Subj 767464 MSE 0.0004117556964047253 | Subj 656657 MSE 0.0003477564314380288 | Subj 687163 MSE 0.0005693123093806207 | Subj 220721 MSE 0.00038182997377589345 | Subj 566454 MSE 0.0017013208707794547 | Subj 185038 MSE 0.00024086673511192203 | Subj 127933 MSE 0.00035391206620261073 | Subj 209935 MSE 0.0002994624082930386 | Subj 765056 MSE 0.0003413961676415056 | Subj 162329 MSE 0.00026067785802297294 | Subj 112112 MSE 0.0012116545112803578 | Subj 169545 MSE 0.0004576626233756542 | Subj 803240 MSE 0.0014006902929395437 | Subj 213522 MSE 0.00030167095246724784 | Subj 153732 MSE 0.00038088305154815316 | Creating prediction viz\n",
      "Subj 121618 MSE 0.0011911618057638407 | Subj 933253 MSE 0.0006685929838567972 | Subj 917558 MSE 0.00024932288215495646 | Subj 299154 MSE 0.0005678545567207038 | Subj 173536 MSE 0.0007607012521475554 | Subj 987074 MSE 0.0011290060356259346 | Subj 361941 MSE 0.0008238372392952442 | Subj 316633 MSE 0.0009631674038246274 | Subj 102109 MSE 0.0005216465797275305 | "
     ]
    }
   ],
   "source": [
    "SHOW_WARNINGS = False\n",
    "\n",
    "RUN_NAME = \"linear_interpolation_baseline\"\n",
    "ts = datetime.datetime.now().replace(microsecond=0).isoformat()\n",
    "# Break ISO format because many programs don't like having colons ':' in a filename.\n",
    "ts = ts.replace(\":\", \"_\")\n",
    "tmp_res_dir = Path(p.tmp_results_dir) / \"_\".join([ts, RUN_NAME])\n",
    "tmp_res_dir.mkdir(parents=True)\n",
    "\n",
    "lin_results = copy.deepcopy(result_table)\n",
    "with warnings.catch_warnings(record=True) as warn_list:\n",
    "    for subj_dict in test_dataloader:\n",
    "        subj_id = subj_dict[\"subj_id\"][0]\n",
    "        x = subj_dict[\"lr_fodf\"][0].cpu()\n",
    "        y = subj_dict[\"fodf\"][0].cpu()\n",
    "        mask = subj_dict[\"mask\"][0].bool().cpu()\n",
    "        x_affine = subj_dict[\"affine_lrvox2acpc\"][0].cpu().numpy().astype(np.double)\n",
    "        y_affine = subj_dict[\"affine_vox2acpc\"][0].cpu().numpy().astype(np.double)\n",
    "        x_transl, x_rot, x_zoom, x_shear = transforms3d.affines.decompose(x_affine)\n",
    "        y_transl, y_rot, y_zoom, y_shear = transforms3d.affines.decompose(y_affine)\n",
    "\n",
    "        x = einops.rearrange(x, \"c z y x -> z y x c\")\n",
    "        x = sitk.GetImageFromArray(x.numpy())\n",
    "        x.SetSpacing(tuple(x_zoom))\n",
    "        x.SetOrigin(tuple(x_transl))\n",
    "        x.SetDirection(tuple(x_rot.flatten()))\n",
    "\n",
    "        y = einops.rearrange(y, \"c z y x -> z y x c\")\n",
    "        y_img = sitk.GetImageFromArray(y.numpy())\n",
    "        y_img.SetSpacing(tuple(y_zoom))\n",
    "        y_img.SetOrigin(tuple(y_transl))\n",
    "        y_img.SetDirection(tuple(y_rot.flatten()))\n",
    "\n",
    "        resampled = sitk.Resample(x, y_img, interpolator=sitk.sitkLinear)\n",
    "        y_pred = sitk.GetArrayViewFromImage(resampled)\n",
    "        y_pred = einops.rearrange(y_pred, \"z y x c -> c z y x\")\n",
    "        y_pred = torch.from_numpy(y_pred).to(y)\n",
    "\n",
    "        y = einops.rearrange(y, \"z y x c -> c z y x\")\n",
    "        mask_broad = torch.broadcast_to(mask, y.shape)\n",
    "        mse = F.mse_loss(y_pred[mask_broad], y[mask_broad], reduction=\"none\")\n",
    "        mse_mean = mse.mean().item()\n",
    "        mse_var = torch.var(mse).item()\n",
    "\n",
    "        lin_results[\"subj_id\"].append(subj_id)\n",
    "        lin_results[\"mse_mean\"].append(mse_mean)\n",
    "        lin_results[\"mse_var\"].append(mse_var)\n",
    "\n",
    "        print(f\"Subj {subj_id} MSE {mse_mean} |\", end=\" \")\n",
    "\n",
    "        if int(subj_id) in p.viz_subjs:\n",
    "            print(\"Creating prediction viz\")\n",
    "            with mpl.rc_context({\"font.size\": 6.0}):\n",
    "                fig = plt.figure(dpi=175, figsize=(9, 5))\n",
    "                fig, _ = pitn.viz.plot_fodf_coeff_slices(\n",
    "                    y_pred,\n",
    "                    y,\n",
    "                    y_pred - y,\n",
    "                    fig=fig,\n",
    "                    fodf_vol_labels=(\"Predicted\", \"Target\", \"Pred - GT\"),\n",
    "                    imshow_kwargs={\"interpolation\": \"antialiased\", \"cmap\": \"gray\"},\n",
    "                )\n",
    "                fig_fname = f\"subj_{subj_id}_{RUN_NAME}_viz.png\"\n",
    "                fig.savefig(tmp_res_dir / fig_fname)\n",
    "                plt.close(fig)\n",
    "\n",
    "pd.DataFrame.from_dict(lin_results).to_csv(tmp_res_dir / f\"run_results_{RUN_NAME}.csv\")\n",
    "shutil.copytree(tmp_res_dir, Path(p.results_dir) / tmp_res_dir.name)\n",
    "\n",
    "if SHOW_WARNINGS:\n",
    "    print(\"=\" * 10)\n",
    "    print(\"Warnings caught:\")\n",
    "    ws = \"\\n\".join(\n",
    "        [\n",
    "            warnings.formatwarning(\n",
    "                w.message, w.category, w.filename, w.lineno, w.file, w.line\n",
    "            )\n",
    "            for w in warn_list\n",
    "        ]\n",
    "    )\n",
    "    ws = \"\\n\".join(filter(lambda s: bool(s.strip()), ws.splitlines()))\n",
    "    print(ws, flush=True)\n",
    "    print(\"=\" * 10)"
   ]
  },
  {
   "cell_type": "code",
   "execution_count": 17,
   "id": "f1ed7d20-b8d7-4f48-b665-06bdc1bba8b5",
   "metadata": {
    "execution": {
     "iopub.execute_input": "2022-12-01T19:53:30.999675Z",
     "iopub.status.busy": "2022-12-01T19:53:30.999068Z",
     "iopub.status.idle": "2022-12-01T19:53:31.056877Z",
     "shell.execute_reply": "2022-12-01T19:53:31.056087Z",
     "shell.execute_reply.started": "2022-12-01T19:53:30.999626Z"
    },
    "tags": []
   },
   "outputs": [
    {
     "data": {
      "text/plain": [
       "0.0005742022767663002"
      ]
     },
     "execution_count": 17,
     "metadata": {},
     "output_type": "execute_result"
    }
   ],
   "source": [
    "df = pd.DataFrame.from_dict(lin_results)\n",
    "df.mse_mean.median()"
   ]
  },
  {
   "cell_type": "code",
   "execution_count": 39,
   "id": "32418978-1960-4be0-9374-633282add2d3",
   "metadata": {
    "execution": {
     "iopub.execute_input": "2022-12-01T20:29:48.816988Z",
     "iopub.status.busy": "2022-12-01T20:29:48.816330Z",
     "iopub.status.idle": "2022-12-01T20:29:48.877066Z",
     "shell.execute_reply": "2022-12-01T20:29:48.876239Z",
     "shell.execute_reply.started": "2022-12-01T20:29:48.816936Z"
    },
    "tags": []
   },
   "outputs": [
    {
     "data": {
      "text/plain": [
       "34"
      ]
     },
     "execution_count": 39,
     "metadata": {},
     "output_type": "execute_result"
    }
   ],
   "source": [
    "sph = dipy.data.get_sphere(\"symmetric362\")\n",
    "sph.find_closest([sph.x[43], sph.y[56], sph.z[8]])"
   ]
  }
 ],
 "metadata": {
  "jupytext": {
   "cell_metadata_filter": "-all",
   "comment_magics": true,
   "encoding": "# -*- coding: utf-8 -*-",
   "formats": "ipynb,py:percent"
  },
  "kernelspec": {
   "display_name": "Python 3.10.8 ('base')",
   "language": "python",
   "name": "python3"
  },
  "language_info": {
   "codemirror_mode": {
    "name": "ipython",
    "version": 3
   },
   "file_extension": ".py",
   "mimetype": "text/x-python",
   "name": "python",
   "nbconvert_exporter": "python",
   "pygments_lexer": "ipython3",
   "version": "3.10.8"
  },
  "vscode": {
   "interpreter": {
    "hash": "f41faa2479836806c9664d670a156675ad0f09912fd4b0aed749f41e3cac86f4"
   }
  }
 },
 "nbformat": 4,
 "nbformat_minor": 5
}
